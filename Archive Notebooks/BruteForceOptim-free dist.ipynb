{
 "cells": [
  {
   "cell_type": "code",
   "execution_count": 1,
   "id": "1df056ac-7a82-4188-b9e6-0d3e223b088c",
   "metadata": {},
   "outputs": [],
   "source": [
    "from scipy.optimize import minimize\n",
    "from scipy.optimize import differential_evolution\n",
    "from scipy.optimize import shgo\n",
    "from scipy.optimize import NonlinearConstraint as NLC\n",
    "from scipy.optimize import LinearConstraint as LC\n",
    "\n",
    "import numpy as np\n",
    "    \n",
    "import matplotlib.pyplot as plt\n",
    "import labellines as ll\n",
    "\n",
    "from functools import partial\n",
    "\n",
    "import cvxpy as cp\n",
    "\n",
    "from RKHS import Gram"
   ]
  },
  {
   "cell_type": "code",
   "execution_count": 2,
   "id": "84322280-dfa8-4fae-95f1-dd034043fde2",
   "metadata": {},
   "outputs": [],
   "source": [
    "# The differentiable kernel function with parameters c,l not filled.\n",
    "def k(x1,x2,c,l):\n",
    "    small_sig = 1e-10 # This is needed for numerical stability.\n",
    "    return c * np.exp(-(np.linalg.norm(x1-x2+small_sig,axis = -1)**2) / l)\n",
    "\n",
    "def GPMI(x,c,l,var_0):# The mutual information for a GP.\n",
    "    x = x.reshape(-1,2)\n",
    "    KA = k(x[:,np.newaxis,:],x,c,l)\n",
    "    if var_0>0:\n",
    "        return 1/2*np.log(np.linalg.det(np.eye(len(KA))+KA/var_0))\n",
    "    else:\n",
    "        return 1/2*np.log(np.linalg.det(KA))"
   ]
  },
  {
   "cell_type": "code",
   "execution_count": 8,
   "id": "46403b37-c1a7-4ade-bfd0-26d45cd171c7",
   "metadata": {
    "tags": []
   },
   "outputs": [],
   "source": [
    "def rand_search(x0,R,objective):\n",
    "    best_xs = []\n",
    "    best_val = -np.inf\n",
    "    \n",
    "    for _ in range(50000):\n",
    "\n",
    "        xs = [x0]\n",
    "        for i in range(T-1):\n",
    "\n",
    "            cand_x = 0\n",
    "            while True:\n",
    "                r = step_size*np.random.rand()\n",
    "\n",
    "                theta = np.random.rand()*2*np.pi\n",
    "\n",
    "                cand_x = xs[-1]+r*np.array([np.cos(theta),np.sin(theta)])\n",
    "\n",
    "                if np.linalg.norm(cand_x-x0)<=R:\n",
    "                    break\n",
    "\n",
    "            xs.append(cand_x)\n",
    "\n",
    "        xs = np.array(xs)\n",
    "        val = objective(xs)\n",
    "\n",
    "        if val>best_val:\n",
    "            best_xs = xs\n",
    "            best_val=val\n",
    "            \n",
    "    return best_xs,best_val"
   ]
  },
  {
   "cell_type": "code",
   "execution_count": 9,
   "id": "e9d48b1c-066e-4e0b-a4e1-65ccceb305b4",
   "metadata": {},
   "outputs": [],
   "source": [
    "def h(r,c,l):\n",
    "    return c * np.exp(-(r**2) / l**2)"
   ]
  },
  {
   "cell_type": "code",
   "execution_count": 10,
   "id": "4a235e04-c298-4341-949a-3eb77016f2c1",
   "metadata": {},
   "outputs": [],
   "source": [
    "\n",
    "T = 7\n",
    "\n",
    "c = 1\n",
    "l = 1\n",
    "var_0 = 0.01\n",
    "objective = lambda z: GPMI(z,c=c,l=l,var_0=var_0)\n",
    "\n",
    "\n",
    "search_region_center = np.array([0,0])\n",
    "step_size = 1"
   ]
  },
  {
   "cell_type": "code",
   "execution_count": 11,
   "id": "acfe51c7-9773-4d4e-94f8-5769b673dc66",
   "metadata": {},
   "outputs": [],
   "source": [
    "kernel = partial(k,c=c,l=l)"
   ]
  },
  {
   "cell_type": "markdown",
   "id": "a444cffd-e6e7-4626-adf0-e1758d5a8390",
   "metadata": {},
   "source": [
    "# Random search I\n",
    "\n",
    "**No** bounded search region constraint.\n",
    "\n",
    "Fix $||x_t-x_{t-1}||=D$, and search using random direction.\n",
    "\n",
    "$$\n",
    "    x_t\\gets x_{t-1} + D * \\text{ random unit vector}\n",
    "$$\n"
   ]
  },
  {
   "cell_type": "code",
   "execution_count": 12,
   "id": "6278c270-6a9f-435d-84bd-a0b8794f9834",
   "metadata": {},
   "outputs": [],
   "source": [
    "rand,_ = rand_search(search_region_center,\\\n",
    "                         np.inf,objective)"
   ]
  },
  {
   "cell_type": "code",
   "execution_count": 13,
   "id": "e6f3b912-0747-4739-9949-01c9a97611d9",
   "metadata": {},
   "outputs": [],
   "source": [
    "sols = {'Random Search': rand,\n",
    "        'Straight Line': np.array([np.arange(T)*step_size,np.zeros(T)]).T*step_size\n",
    "       }\n"
   ]
  },
  {
   "cell_type": "markdown",
   "id": "99ba26b2-f298-4575-8c53-c542ed6d4b65",
   "metadata": {},
   "source": [
    "# Solve for the upper bound\n",
    "\n",
    "\n",
    "$$\n",
    "    \\max_S \\log(\\det(I+\\sigma^{-2}S))\\\\\n",
    "    S_{ii}=c\\\\\n",
    "    S_{i,i+1}=S_{i+1,i}\\geq d\\\\\n",
    "    S\\succeq 0\\\\\n",
    "    (\\text{Without admissibility constraints})\n",
    "$$"
   ]
  },
  {
   "cell_type": "code",
   "execution_count": 14,
   "id": "807d2b7d-8983-4d8d-9062-268838c56119",
   "metadata": {},
   "outputs": [],
   "source": [
    "n = T\n",
    "c = 1\n",
    "var = var_0\n",
    "\n",
    "\n",
    "d = h(step_size,c=c,l=l)\n",
    "\n",
    "I = np.eye(n)\n",
    "\n",
    "S = cp.Variable((n,n),symmetric=True)\n",
    "\n",
    "constraints = [cp.diag(S)==c]\n",
    "\n",
    "constraints+=[S[i,i+1]>=d for i in range(0,n-1)]\n",
    "\n",
    "constraints+=[S>>0]\n",
    "\n",
    "prob = cp.Problem(cp.Maximize(1/2*cp.log_det(I+ S/var)),constraints)\n",
    "\n",
    "upper_bound = prob.solve()"
   ]
  },
  {
   "cell_type": "markdown",
   "id": "53d94fb8-2964-45b4-88fe-3cf7462ea7a7",
   "metadata": {},
   "source": [
    "# Compare the random search value and the upper bound"
   ]
  },
  {
   "cell_type": "code",
   "execution_count": 15,
   "id": "4db805cb-446a-4723-ac02-ba2a0ef1d383",
   "metadata": {},
   "outputs": [
    {
     "data": {
      "text/plain": [
       "15.725918264309918"
      ]
     },
     "execution_count": 15,
     "metadata": {},
     "output_type": "execute_result"
    }
   ],
   "source": [
    "upper_bound"
   ]
  },
  {
   "cell_type": "code",
   "execution_count": 16,
   "id": "c487d974-9199-4ad2-903d-3534437567d8",
   "metadata": {},
   "outputs": [
    {
     "data": {
      "text/plain": [
       "1.5213746144788125e+01"
      ]
     },
     "execution_count": 16,
     "metadata": {},
     "output_type": "execute_result"
    }
   ],
   "source": [
    "objective(sols['Random Search']) # Mutual information achieved by the random search"
   ]
  },
  {
   "cell_type": "code",
   "execution_count": 17,
   "id": "2f9995c4-cd3f-410d-8f02-9243e6655a30",
   "metadata": {},
   "outputs": [
    {
     "data": {
      "text/plain": [
       "5.12172119521793e-01"
      ]
     },
     "execution_count": 17,
     "metadata": {},
     "output_type": "execute_result"
    }
   ],
   "source": [
    "upper_bound-(objective(sols['Random Search'])) "
   ]
  },
  {
   "cell_type": "code",
   "execution_count": 18,
   "id": "20b91002-8998-46b5-b16e-27fd7e7c3633",
   "metadata": {},
   "outputs": [
    {
     "data": {
      "text/plain": [
       "3.2568662186434685e-02"
      ]
     },
     "execution_count": 18,
     "metadata": {},
     "output_type": "execute_result"
    }
   ],
   "source": [
    "(upper_bound-(objective(sols['Random Search'])))/np.abs(upper_bound) # The 'competitive ratio'"
   ]
  },
  {
   "cell_type": "code",
   "execution_count": 19,
   "id": "4a3c973d-c507-439f-ba32-f4ef307a9884",
   "metadata": {},
   "outputs": [
    {
     "data": {
      "text/plain": [
       "array([[0.9999994 , 0.36787981, 0.13401489, 0.0488275 , 0.01776215,\n",
       "        0.00641178, 0.00228413],\n",
       "       [0.36787981, 1.00000013, 0.36787983, 0.13400823, 0.04881001,\n",
       "        0.01775389, 0.00643907],\n",
       "       [0.13401489, 0.36787983, 0.99999992, 0.36787979, 0.13401547,\n",
       "        0.04884005, 0.01780577],\n",
       "       [0.0488275 , 0.13400823, 0.36787979, 0.99999997, 0.36787977,\n",
       "        0.13403017, 0.04885486],\n",
       "       [0.01776215, 0.04881001, 0.13401547, 0.36787977, 0.99999931,\n",
       "        0.3678795 , 0.13401632],\n",
       "       [0.00641178, 0.01775389, 0.04884005, 0.13403017, 0.3678795 ,\n",
       "        1.0000003 , 0.3678793 ],\n",
       "       [0.00228413, 0.00643907, 0.01780577, 0.04885486, 0.13401632,\n",
       "        0.3678793 , 1.0000003 ]])"
      ]
     },
     "execution_count": 19,
     "metadata": {},
     "output_type": "execute_result"
    }
   ],
   "source": [
    "S.value"
   ]
  },
  {
   "cell_type": "code",
   "execution_count": 20,
   "id": "90a95d4e-9aa7-410e-a330-19a1ef6c4e08",
   "metadata": {},
   "outputs": [
    {
     "data": {
      "text/plain": [
       "array([[1.00000000e+00, 5.41557297e-01, 4.49454562e-01, 8.70891888e-02,\n",
       "        3.45760094e-03, 4.91158978e-05, 6.43436923e-08],\n",
       "       [5.41557297e-01, 1.00000000e+00, 4.82778271e-01, 5.78949840e-02,\n",
       "        4.13425112e-03, 4.21419595e-05, 6.47757881e-08],\n",
       "       [4.49454561e-01, 4.82778271e-01, 1.00000000e+00, 4.98001315e-01,\n",
       "        9.11452973e-02, 3.80571244e-03, 2.26837262e-05],\n",
       "       [8.70891887e-02, 5.78949840e-02, 4.98001315e-01, 1.00000000e+00,\n",
       "        4.80704942e-01, 8.04108689e-02, 1.86211443e-03],\n",
       "       [3.45760094e-03, 4.13425111e-03, 9.11452972e-02, 4.80704942e-01,\n",
       "        1.00000000e+00, 4.96231063e-01, 5.06260848e-02],\n",
       "       [4.91158977e-05, 4.21419594e-05, 3.80571244e-03, 8.04108688e-02,\n",
       "        4.96231063e-01, 1.00000000e+00, 4.29290224e-01],\n",
       "       [6.43436922e-08, 6.47757880e-08, 2.26837261e-05, 1.86211443e-03,\n",
       "        5.06260848e-02, 4.29290223e-01, 1.00000000e+00]])"
      ]
     },
     "execution_count": 20,
     "metadata": {},
     "output_type": "execute_result"
    }
   ],
   "source": [
    "Gram(kernel,sols['Random Search'])"
   ]
  },
  {
   "cell_type": "code",
   "execution_count": 117,
   "id": "e595ac8e-71e5-4b19-8b62-053bce0f9279",
   "metadata": {},
   "outputs": [
    {
     "data": {
      "text/plain": [
       "array([[-6.01916709e-07,  3.67277513e-07,  4.66158701e-02,\n",
       "         4.45789321e-02,  1.76539640e-02,  6.41076525e-03,\n",
       "         2.28412708e-03],\n",
       "       [ 3.67484168e-07,  1.29211274e-07,  3.86938520e-07,\n",
       "         6.55941163e-03,  4.33314301e-02,  1.74064020e-02,\n",
       "         6.43845421e-03],\n",
       "       [ 4.66158702e-02,  3.87007626e-07, -8.19363816e-08,\n",
       "         3.49895094e-07,  1.73969063e-02,  4.25333471e-02,\n",
       "         1.77403724e-02],\n",
       "       [ 4.45789321e-02,  6.55941172e-03,  3.50093375e-07,\n",
       "        -2.57991901e-08,  3.29528353e-07, -1.12130721e-02,\n",
       "         4.48562830e-02],\n",
       "       [ 1.76539640e-02,  4.33314301e-02,  1.73969064e-02,\n",
       "         3.29606116e-07, -6.92985199e-07,  6.08856539e-08,\n",
       "         7.19259354e-02],\n",
       "       [ 6.41076525e-03,  1.74064020e-02,  4.25333471e-02,\n",
       "        -1.12130720e-02,  6.10758153e-08,  3.02156622e-07,\n",
       "        -1.44144992e-07],\n",
       "       [ 2.28412708e-03,  6.43845421e-03,  1.77403724e-02,\n",
       "         4.48562830e-02,  7.19259355e-02, -1.43993054e-07,\n",
       "         2.97277230e-07]])"
      ]
     },
     "execution_count": 117,
     "metadata": {},
     "output_type": "execute_result"
    }
   ],
   "source": [
    "S.value-Gram(kernel,sols['Random Search'])"
   ]
  },
  {
   "cell_type": "code",
   "execution_count": 21,
   "id": "d3cd9a5a-508c-4497-81cb-67b635f097a1",
   "metadata": {},
   "outputs": [
    {
     "data": {
      "image/png": "[encoded data removed]",
      "text/plain": [
       "<Figure size 1200x800 with 1 Axes>"
      ]
     },
     "metadata": {
      "needs_background": "light"
     },
     "output_type": "display_data"
    }
   ],
   "source": [
    "\n",
    "plt.rc('font',size=11)\n",
    "plt.figure(dpi=200)\n",
    "for key,val in sols.items():\n",
    "    plt.plot(val[:,0],val[:,1],marker = '.',markersize = 15,label=\"{}: MI={:.2f}\".format(key,objective(val)))\n",
    "    \n",
    "    plt.gca().set_aspect('equal')\n",
    "\n",
    "plt.text(0.,2.,'MI Upper bound: {:.2f}'.format(upper_bound))\n",
    "# circ = plt.Circle(search_region_center,search_region_radius,label='Search Region Boundary',fill=False)\n",
    "# plt.gca().add_patch(circ)\n",
    "# ll.labelLines(plt.gca().get_lines(),fontsize=12,zorder=3,yoffsets=1.5,align=False)\n",
    "plt.legend()\n",
    "plt.show()"
   ]
  },
  {
   "cell_type": "markdown",
   "id": "215f2ad0-376b-4370-a0af-1594297b043e",
   "metadata": {},
   "source": [
    "# Random search II\n",
    "\n",
    "Adding bounded search region constraint.\n",
    "\n",
    "Fix $||x_t-x_{t-1}||=D$, and search using random direction.\n",
    "\n",
    "$$\n",
    "    \\hat{x}_t\\gets x_{t-1} + D * \\text{ random unit vector}\n",
    "$$\n",
    "\n",
    "If $\\hat{x}_t$ is outside the search region, pick a new random unit vector and try again, until a feasible $\\hat{x}_t$ is found. Then set $x_t\\gets \\hat{x}_t$.\n"
   ]
  },
  {
   "cell_type": "code",
   "execution_count": 22,
   "id": "5dc87618-23f1-44cf-bf5a-7775ac8982f3",
   "metadata": {},
   "outputs": [],
   "source": [
    "search_region_radius = 1"
   ]
  },
  {
   "cell_type": "code",
   "execution_count": 23,
   "id": "b2513530-e603-4a79-8e10-a5b85b328a06",
   "metadata": {},
   "outputs": [],
   "source": [
    "rand,_ = rand_search(search_region_center,\\\n",
    "                         search_region_radius,objective)"
   ]
  },
  {
   "cell_type": "code",
   "execution_count": 24,
   "id": "db4b7394-8d97-4093-889e-bfcf59672360",
   "metadata": {},
   "outputs": [],
   "source": [
    "sols = {'Random Search': rand,\n",
    "        'Straight Line': np.array([np.arange(T)*step_size,np.zeros(T)]).T*step_size\n",
    "       }\n"
   ]
  },
  {
   "cell_type": "code",
   "execution_count": 25,
   "id": "9cbc42cb-b762-47c8-97fa-901d6d95c9d0",
   "metadata": {},
   "outputs": [
    {
     "data": {
      "image/png": "[encoded data removed]",
      "text/plain": [
       "<Figure size 1200x800 with 1 Axes>"
      ]
     },
     "metadata": {
      "needs_background": "light"
     },
     "output_type": "display_data"
    }
   ],
   "source": [
    "\n",
    "plt.rc('font',size=11)\n",
    "plt.figure(dpi=200)\n",
    "for key,val in sols.items():\n",
    "    plt.plot(val[:,0],val[:,1],marker = '.',markersize = 15,label=\"{}: MI={:.2f}\".format(key,objective(val)))\n",
    "    \n",
    "    plt.gca().set_aspect('equal')\n",
    "\n",
    "circ = plt.Circle(search_region_center,search_region_radius,fill=False)\n",
    "plt.gca().add_patch(circ)\n",
    "# ll.labelLines(plt.gca().get_lines(),fontsize=12,zorder=3,yoffsets=1.5,align=False)\n",
    "plt.legend()\n",
    "plt.show()"
   ]
  },
  {
   "cell_type": "markdown",
   "id": "c4c606f6-f351-4dbd-bb02-9f95baffaba5",
   "metadata": {},
   "source": [
    "# Solve for the upper bound\n",
    "\n",
    "\n",
    "$$\n",
    "    \\max_S \\log(\\det(I+\\sigma^{-2}S))\\\\\n",
    "    S_{ii}=c\\\\\n",
    "    S_{i,i+1}=S_{i+1,i}\\geq d\\\\\n",
    "    S_{i,j}\\geq E\\\\\n",
    "    S\\succeq 0\\\\\n",
    "    (\\text{Without admissibility constraints})\n",
    "$$"
   ]
  },
  {
   "cell_type": "code",
   "execution_count": 26,
   "id": "37743b2b-695c-4209-ae45-4c827f6ec990",
   "metadata": {},
   "outputs": [],
   "source": [
    "n = T\n",
    "c = 1\n",
    "var = var_0\n",
    "\n",
    "\n",
    "d = h(step_size,c=c,l=l)\n",
    "\n",
    "E = h(2*search_region_radius,c=c,l=l)\n",
    "\n",
    "I = np.eye(n)\n",
    "\n",
    "S = cp.Variable((n,n),symmetric=True)\n",
    "\n",
    "constraints = [cp.diag(S)==c]\n",
    "\n",
    "constraints+=[S[i,i+1]>=d for i in range(0,n-1)]\n",
    "\n",
    "constraints+= [S>=E]\n",
    "\n",
    "constraints+=[S>>0]\n",
    "\n",
    "prob = cp.Problem(cp.Maximize(1/2*cp.log_det(I+ S/var)),constraints)\n",
    "\n",
    "upper_bound = prob.solve()"
   ]
  },
  {
   "cell_type": "code",
   "execution_count": 27,
   "id": "95f8a6c0-9e96-40bb-8b16-4be12591c202",
   "metadata": {},
   "outputs": [
    {
     "data": {
      "text/plain": [
       "15.725753663755913"
      ]
     },
     "execution_count": 27,
     "metadata": {},
     "output_type": "execute_result"
    }
   ],
   "source": [
    "prob.value"
   ]
  },
  {
   "cell_type": "code",
   "execution_count": 28,
   "id": "d13ede13-a4a4-4cdb-b633-29a35a10e3af",
   "metadata": {},
   "outputs": [
    {
     "data": {
      "text/plain": [
       "array([[1.00000084, 0.36787943, 0.13442268, 0.05035091, 0.02212195,\n",
       "        0.01831588, 0.01831607],\n",
       "       [0.36787943, 0.99999983, 0.36788053, 0.13470499, 0.05117253,\n",
       "        0.02431043, 0.01831516],\n",
       "       [0.13442268, 0.36788053, 1.00000056, 0.36787952, 0.13472006,\n",
       "        0.05116979, 0.02211748],\n",
       "       [0.05035091, 0.13470499, 0.36787952, 0.99999953, 0.36788072,\n",
       "        0.13469734, 0.05033683],\n",
       "       [0.02212195, 0.05117253, 0.13472006, 0.36788072, 1.00000047,\n",
       "        0.36788027, 0.13441281],\n",
       "       [0.01831588, 0.02431043, 0.05116979, 0.13469734, 0.36788027,\n",
       "        1.0000011 , 0.36788058],\n",
       "       [0.01831607, 0.01831516, 0.02211748, 0.05033683, 0.13441281,\n",
       "        0.36788058, 1.00000173]])"
      ]
     },
     "execution_count": 28,
     "metadata": {},
     "output_type": "execute_result"
    }
   ],
   "source": [
    "S.value"
   ]
  },
  {
   "cell_type": "code",
   "execution_count": 29,
   "id": "9626b1ab-da45-40ed-ad51-1fe28a611e56",
   "metadata": {},
   "outputs": [
    {
     "data": {
      "text/plain": [
       "array([[1.        , 0.43388644, 0.77722815, 0.58344368, 0.37648315,\n",
       "        0.41487202, 0.42603002],\n",
       "       [0.43388644, 1.        , 0.66936356, 0.12815971, 0.21239199,\n",
       "        0.0456329 , 0.03540512],\n",
       "       [0.77722815, 0.66936356, 1.        , 0.52296223, 0.62584124,\n",
       "        0.26707986, 0.14817401],\n",
       "       [0.58344368, 0.12815971, 0.52296223, 1.        , 0.68000364,\n",
       "        0.8622508 , 0.38420993],\n",
       "       [0.37648315, 0.21239199, 0.62584124, 0.68000364, 1.        ,\n",
       "        0.37786133, 0.08559164],\n",
       "       [0.41487202, 0.0456329 , 0.26707986, 0.8622508 , 0.37786133,\n",
       "        1.        , 0.55628081],\n",
       "       [0.42603002, 0.03540512, 0.14817401, 0.38420993, 0.08559164,\n",
       "        0.55628081, 1.        ]])"
      ]
     },
     "execution_count": 29,
     "metadata": {},
     "output_type": "execute_result"
    }
   ],
   "source": [
    "Gram(kernel,sols['Random Search'])"
   ]
  }
 ],
 "metadata": {
  "kernelspec": {
   "display_name": "Python 3 (ipykernel)",
   "language": "python",
   "name": "python3"
  },
  "language_info": {
   "codemirror_mode": {
    "name": "ipython",
    "version": 3
   },
   "file_extension": ".py",
   "mimetype": "text/x-python",
   "name": "python",
   "nbconvert_exporter": "python",
   "pygments_lexer": "ipython3",
   "version": "3.9.5"
  }
 },
 "nbformat": 4,
 "nbformat_minor": 5
}
