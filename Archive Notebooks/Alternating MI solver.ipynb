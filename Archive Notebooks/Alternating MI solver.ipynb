{
 "cells": [
  {
   "cell_type": "code",
   "execution_count": 1,
   "id": "c7b247d1-ce0c-45f9-82e9-94371d51da51",
   "metadata": {},
   "outputs": [],
   "source": [
    "import numpy as np\n",
    "import numpy.linalg as la\n",
    "import cvxpy as cp\n",
    "\n",
    "from functools import partial\n",
    "\n",
    "  \n",
    "import matplotlib.pyplot as plt\n",
    "import labellines as ll\n",
    "\n",
    "\n",
    "from shapely.geometry import Point\n",
    "from descartes import PolygonPatch\n",
    "\n",
    "from RKHS import feature"
   ]
  },
  {
   "cell_type": "code",
   "execution_count": 3,
   "id": "ca985a19-628d-44da-86ee-8b49936a1d23",
   "metadata": {},
   "outputs": [],
   "source": [
    "# The differentiable kernel function with parameters c,l not filled.\n",
    "def h(r,c,l):\n",
    "    return c * np.exp(-(r**2) / l**2)\n",
    "\n",
    "def k(x1,x2,c,l):\n",
    "    small_sig = 1e-10 # This is needed for numerical stability.\n",
    "    return h(np.linalg.norm(x1-x2+small_sig,axis = -1),c,l)\n",
    "\n",
    "def Gram(kernel,x):\n",
    "    KA = kernel(x[:,np.newaxis,:],x)\n",
    "    return KA"
   ]
  },
  {
   "cell_type": "code",
   "execution_count": 2,
   "id": "1ad1ade9-1c8a-4dba-8791-ac717877c203",
   "metadata": {},
   "outputs": [],
   "source": [
    "def h_inv(y,c,l):\n",
    "    return np.sqrt(np.log(c/y))*l"
   ]
  },
  {
   "cell_type": "code",
   "execution_count": 4,
   "id": "c453b12e-bda2-41f4-a2bd-e2568d0cf570",
   "metadata": {},
   "outputs": [],
   "source": [
    "kernel = partial(k,c=1,l=1)"
   ]
  },
  {
   "cell_type": "markdown",
   "id": "dac2513e-20d3-4728-97c7-61019dde259f",
   "metadata": {},
   "source": [
    "# Set up the reference points"
   ]
  },
  {
   "cell_type": "code",
   "execution_count": 5,
   "id": "8faddf41-7583-4dc7-85c7-e1f14e6a3e3a",
   "metadata": {},
   "outputs": [],
   "source": [
    "nx, ny = (10, 10)\n",
    "x = np.linspace(-2, 4, nx)\n",
    "y = np.linspace(-2, 4, ny)\n",
    "xv, yv = np.meshgrid(x, y)\n",
    "\n",
    "ref = np.array([xv.ravel(),yv.ravel()]).T"
   ]
  },
  {
   "cell_type": "code",
   "execution_count": 6,
   "id": "298f0416-241b-4616-a172-6bffe21c7cbd",
   "metadata": {},
   "outputs": [
    {
     "data": {
      "text/plain": [
       "array([0., 0.])"
      ]
     },
     "execution_count": 6,
     "metadata": {},
     "output_type": "execute_result"
    }
   ],
   "source": [
    "ref[33]"
   ]
  },
  {
   "cell_type": "code",
   "execution_count": 81,
   "id": "c425f1cf-1138-4f63-96e5-5c3ef4417c78",
   "metadata": {},
   "outputs": [],
   "source": [
    "radius = 2\n",
    "Rs = np.ones(len(ref))*8\n",
    "Rs[33] = radius\n",
    "\n",
    "K = Gram(kernel,ref)\n",
    "\n",
    "l,U =la.eig(K)\n",
    "\n",
    "# M = np.diag(1/np.sqrt(l)).dot(U) # M.T.dot(M) = K^{-1} is satisfied.\n",
    "\n",
    "# Another idea of choosing M, not from the eigen decomp approach though.\n",
    "M = la.cholesky(la.inv(K)).T"
   ]
  },
  {
   "cell_type": "markdown",
   "id": "d8fc369c-1b9c-41bd-bd6e-f4acc0268da8",
   "metadata": {},
   "source": [
    "# Define some constants"
   ]
  },
  {
   "cell_type": "code",
   "execution_count": 35,
   "id": "85fdeb12-e383-4f0b-9b41-aefe18a14424",
   "metadata": {},
   "outputs": [],
   "source": [
    "N = len(ref)\n",
    "T = 7\n",
    "\n",
    "c = 1\n",
    "l = 1\n",
    "var_0 = 0.01\n",
    "\n",
    "step_size = 1"
   ]
  },
  {
   "cell_type": "code",
   "execution_count": 36,
   "id": "58bab60d-49f7-4f32-9827-230ab5e44df9",
   "metadata": {},
   "outputs": [],
   "source": [
    "n = T\n",
    "\n",
    "d = h(step_size,c=c,l=l)\n",
    "\n",
    "I = np.eye(n)"
   ]
  },
  {
   "cell_type": "markdown",
   "id": "c77811ff-217b-4474-aea9-d386f1a81625",
   "metadata": {},
   "source": [
    "# Define the decision variables that represent the feature matrix, solve for an feasible solution."
   ]
  },
  {
   "cell_type": "code",
   "execution_count": 82,
   "id": "dd35ba53-2072-4f02-8020-515eb33d5746",
   "metadata": {},
   "outputs": [],
   "source": [
    "H = h(Rs,c=1,l=1).reshape(-1,1)\n",
    "\n",
    "H.dot(np.ones((1,T))).shape\n",
    "\n",
    "phi = cp.Variable((N,T))\n",
    "\n",
    "constraints = [la.inv(M) @ phi>= H.dot(np.ones((1,T)))]\n",
    "# constraints = [la.inv(M) @ phi>= 0]\n",
    "\n",
    "\n",
    "prob=cp.Problem(cp.Maximize(0),constraints)\n",
    "\n",
    "prob.solve()\n",
    "\n",
    "phi0 = phi.value\n",
    "\n",
    "phi_prev=phi0"
   ]
  },
  {
   "cell_type": "markdown",
   "id": "144ad956-79ad-4e89-8b27-69445b64c94c",
   "metadata": {},
   "source": [
    "# Perform the alternating solver"
   ]
  },
  {
   "cell_type": "code",
   "execution_count": 84,
   "id": "5d30a9da-ee0c-4d87-8cb6-b7a40f9ea206",
   "metadata": {
    "collapsed": true,
    "jupyter": {
     "outputs_hidden": true
    },
    "tags": []
   },
   "outputs": [
    {
     "name": "stdout",
     "output_type": "stream",
     "text": [
      "-1.7108865435522007 5.803454223655429\n",
      "-1.7411126086345252 0.3725566062442491\n",
      "-1.7207297150556842 5.707339059923449\n",
      "-1.7382677725892657 0.37120741759779113\n",
      "-1.7263202830372515 5.653374856522692\n",
      "-1.7354971036614195 0.37045776830865074\n",
      "-1.7273739170351872 5.624322084574614\n",
      "-1.7322566581013081 0.3700146006214199\n",
      "-1.7258197984803576 5.608407794227307\n",
      "-1.728321880475486 0.36973276716179393\n",
      "-1.720607388052637 5.599998431089673\n",
      "-1.7228183258907812 0.36951052520476685\n",
      "-1.7148715486195996 5.593589961780294\n",
      "-1.7173107421907736 0.3692892308756339\n",
      "-1.710195031420622 5.586688184792635\n",
      "-1.7124645785318138 0.3690841666614657\n",
      "-1.7068059328783842 5.580475984264929\n",
      "-1.70873965175334 0.3688759686663349\n",
      "-1.703583077614688 5.575349742346211\n",
      "-1.705154189903053 0.36874806243807173\n",
      "-1.7007081345304256 5.571190192566959\n",
      "-1.7020153271201643 0.3685840780439631\n",
      "-1.697858136241327 5.567773281187478\n",
      "-1.6989324702896322 0.36844903387251554\n",
      "-1.6948883749982873 5.565075701637894\n",
      "-1.695915824258274 0.36831034791185924\n",
      "-1.6918427980806812 5.562543043498717\n",
      "-1.6927877175395638 0.36817991002087425\n",
      "-1.6885774402387617 5.560326381828276\n",
      "-1.689507824004949 0.3680694465982299\n",
      "-1.6851678883975667 5.558175960262605\n",
      "-1.6860958214096304 0.36794765703154475\n",
      "-1.6807752532623186 5.5559889685068065\n",
      "-1.681708851777568 0.36791771872341683\n",
      "-1.6775662560603037 5.553627747919496\n",
      "-1.678520663301818 0.3677947612780379\n",
      "-1.6744018692325442 5.551404446369952\n",
      "-1.6753259584688815 0.3677055665189452\n",
      "-1.670459195777982 5.549258442681452\n",
      "-1.671522426867374 0.3676537282768301\n",
      "-1.6671619479439914 5.546858719359524\n",
      "-1.6682157029267948 0.36754368151894656\n",
      "-1.663734577184619 5.544566877156251\n",
      "-1.664698975056699 0.3674611812984621\n",
      "-1.6607712172824411 5.5422642336232855\n",
      "-1.661730868444861 0.3673244991350967\n",
      "-1.6577787330107836 5.540015801128191\n",
      "-1.658643958763753 0.36720810800498266\n",
      "-1.6546419806609476 5.537951583082906\n",
      "-1.6554652735613111 0.36707289520542763\n",
      "-1.6512591426673637 5.53599667911303\n",
      "-1.6520214974704233 0.36696731975563424\n",
      "-1.6482360890022394 5.534057971241045\n",
      "-1.648968763238255 0.3668530836971379\n",
      "-1.6456074687011337 5.532089602820955\n",
      "-1.6463066691713497 0.3667476843599713\n",
      "-1.6435132264085215 5.530186971284547\n",
      "-1.64416251321499 0.36664144949630045\n",
      "-1.6419079403216024 5.52844786873484\n",
      "-1.6424583917203266 0.3665332824309827\n",
      "-1.6405310352917204 5.526988028607372\n",
      "-1.6409160811953258 0.3664674337668766\n",
      "-1.6392734912671107 5.526056584035939\n",
      "-1.6397696020035046 0.3664500267651157\n",
      "Failure:Interrupted\n"
     ]
    },
    {
     "ename": "SolverError",
     "evalue": "Solver 'SCS' failed. Try another solver, or solve with verbose=True for more information.",
     "output_type": "error",
     "traceback": [
      "\u001b[0;31m---------------------------------------------------------------------------\u001b[0m",
      "\u001b[0;31mSolverError\u001b[0m                               Traceback (most recent call last)",
      "\u001b[0;32m/tmp/ipykernel_26617/496562225.py\u001b[0m in \u001b[0;36m<module>\u001b[0;34m\u001b[0m\n\u001b[1;32m      9\u001b[0m \u001b[0;34m\u001b[0m\u001b[0m\n\u001b[1;32m     10\u001b[0m     \u001b[0mprob\u001b[0m \u001b[0;34m=\u001b[0m \u001b[0mcp\u001b[0m\u001b[0;34m.\u001b[0m\u001b[0mProblem\u001b[0m\u001b[0;34m(\u001b[0m\u001b[0mcp\u001b[0m\u001b[0;34m.\u001b[0m\u001b[0mMaximize\u001b[0m\u001b[0;34m(\u001b[0m\u001b[0;36m1\u001b[0m\u001b[0;34m/\u001b[0m\u001b[0;36m2\u001b[0m\u001b[0;34m*\u001b[0m\u001b[0mcp\u001b[0m\u001b[0;34m.\u001b[0m\u001b[0mlog_det\u001b[0m\u001b[0;34m(\u001b[0m\u001b[0mvar_0\u001b[0m\u001b[0;34m*\u001b[0m\u001b[0mI\u001b[0m\u001b[0;34m+\u001b[0m \u001b[0mS\u001b[0m\u001b[0;34m)\u001b[0m\u001b[0;34m-\u001b[0m\u001b[0;36m10\u001b[0m\u001b[0;34m*\u001b[0m\u001b[0mcp\u001b[0m\u001b[0;34m.\u001b[0m\u001b[0mnorm\u001b[0m\u001b[0;34m(\u001b[0m\u001b[0mphi\u001b[0m\u001b[0;34m-\u001b[0m\u001b[0mphi_prev\u001b[0m\u001b[0;34m)\u001b[0m\u001b[0;34m**\u001b[0m\u001b[0;36m2\u001b[0m\u001b[0;34m)\u001b[0m\u001b[0;34m,\u001b[0m\u001b[0mconstraints\u001b[0m\u001b[0;34m)\u001b[0m\u001b[0;34m\u001b[0m\u001b[0;34m\u001b[0m\u001b[0m\n\u001b[0;32m---> 11\u001b[0;31m     \u001b[0mprob\u001b[0m\u001b[0;34m.\u001b[0m\u001b[0msolve\u001b[0m\u001b[0;34m(\u001b[0m\u001b[0;34m)\u001b[0m\u001b[0;34m\u001b[0m\u001b[0;34m\u001b[0m\u001b[0m\n\u001b[0m\u001b[1;32m     12\u001b[0m \u001b[0;34m\u001b[0m\u001b[0m\n\u001b[1;32m     13\u001b[0m     \u001b[0mprint\u001b[0m\u001b[0;34m(\u001b[0m\u001b[0;36m1\u001b[0m\u001b[0;34m/\u001b[0m\u001b[0;36m2\u001b[0m\u001b[0;34m*\u001b[0m\u001b[0mnp\u001b[0m\u001b[0;34m.\u001b[0m\u001b[0mlog\u001b[0m\u001b[0;34m(\u001b[0m\u001b[0mla\u001b[0m\u001b[0;34m.\u001b[0m\u001b[0mdet\u001b[0m\u001b[0;34m(\u001b[0m\u001b[0mvar_0\u001b[0m\u001b[0;34m*\u001b[0m\u001b[0mI\u001b[0m\u001b[0;34m+\u001b[0m\u001b[0mS\u001b[0m\u001b[0;34m.\u001b[0m\u001b[0mvalue\u001b[0m\u001b[0;34m)\u001b[0m\u001b[0;34m)\u001b[0m\u001b[0;34m,\u001b[0m\u001b[0;36m0.1\u001b[0m\u001b[0;34m*\u001b[0m\u001b[0mla\u001b[0m\u001b[0;34m.\u001b[0m\u001b[0mnorm\u001b[0m\u001b[0;34m(\u001b[0m\u001b[0mphi_prev\u001b[0m\u001b[0;34m.\u001b[0m\u001b[0mT\u001b[0m\u001b[0;34m.\u001b[0m\u001b[0mdot\u001b[0m\u001b[0;34m(\u001b[0m\u001b[0mphi_prev\u001b[0m\u001b[0;34m)\u001b[0m\u001b[0;34m-\u001b[0m\u001b[0mS\u001b[0m\u001b[0;34m.\u001b[0m\u001b[0mvalue\u001b[0m\u001b[0;34m)\u001b[0m\u001b[0;34m)\u001b[0m\u001b[0;34m\u001b[0m\u001b[0;34m\u001b[0m\u001b[0m\n",
      "\u001b[0;32m~/miniconda3/envs/simulation/lib/python3.9/site-packages/cvxpy/problems/problem.py\u001b[0m in \u001b[0;36msolve\u001b[0;34m(self, *args, **kwargs)\u001b[0m\n\u001b[1;32m    470\u001b[0m         \u001b[0;32melse\u001b[0m\u001b[0;34m:\u001b[0m\u001b[0;34m\u001b[0m\u001b[0;34m\u001b[0m\u001b[0m\n\u001b[1;32m    471\u001b[0m             \u001b[0msolve_func\u001b[0m \u001b[0;34m=\u001b[0m \u001b[0mProblem\u001b[0m\u001b[0;34m.\u001b[0m\u001b[0m_solve\u001b[0m\u001b[0;34m\u001b[0m\u001b[0;34m\u001b[0m\u001b[0m\n\u001b[0;32m--> 472\u001b[0;31m         \u001b[0;32mreturn\u001b[0m \u001b[0msolve_func\u001b[0m\u001b[0;34m(\u001b[0m\u001b[0mself\u001b[0m\u001b[0;34m,\u001b[0m \u001b[0;34m*\u001b[0m\u001b[0margs\u001b[0m\u001b[0;34m,\u001b[0m \u001b[0;34m**\u001b[0m\u001b[0mkwargs\u001b[0m\u001b[0;34m)\u001b[0m\u001b[0;34m\u001b[0m\u001b[0;34m\u001b[0m\u001b[0m\n\u001b[0m\u001b[1;32m    473\u001b[0m \u001b[0;34m\u001b[0m\u001b[0m\n\u001b[1;32m    474\u001b[0m     \u001b[0;34m@\u001b[0m\u001b[0mclassmethod\u001b[0m\u001b[0;34m\u001b[0m\u001b[0;34m\u001b[0m\u001b[0m\n",
      "\u001b[0;32m~/miniconda3/envs/simulation/lib/python3.9/site-packages/cvxpy/problems/problem.py\u001b[0m in \u001b[0;36m_solve\u001b[0;34m(self, solver, warm_start, verbose, gp, qcp, requires_grad, enforce_dpp, **kwargs)\u001b[0m\n\u001b[1;32m    976\u001b[0m         \u001b[0mend\u001b[0m \u001b[0;34m=\u001b[0m \u001b[0mtime\u001b[0m\u001b[0;34m.\u001b[0m\u001b[0mtime\u001b[0m\u001b[0;34m(\u001b[0m\u001b[0;34m)\u001b[0m\u001b[0;34m\u001b[0m\u001b[0;34m\u001b[0m\u001b[0m\n\u001b[1;32m    977\u001b[0m         \u001b[0mself\u001b[0m\u001b[0;34m.\u001b[0m\u001b[0m_solve_time\u001b[0m \u001b[0;34m=\u001b[0m \u001b[0mend\u001b[0m \u001b[0;34m-\u001b[0m \u001b[0mstart\u001b[0m\u001b[0;34m\u001b[0m\u001b[0;34m\u001b[0m\u001b[0m\n\u001b[0;32m--> 978\u001b[0;31m         \u001b[0mself\u001b[0m\u001b[0;34m.\u001b[0m\u001b[0munpack_results\u001b[0m\u001b[0;34m(\u001b[0m\u001b[0msolution\u001b[0m\u001b[0;34m,\u001b[0m \u001b[0msolving_chain\u001b[0m\u001b[0;34m,\u001b[0m \u001b[0minverse_data\u001b[0m\u001b[0;34m)\u001b[0m\u001b[0;34m\u001b[0m\u001b[0;34m\u001b[0m\u001b[0m\n\u001b[0m\u001b[1;32m    979\u001b[0m         \u001b[0;32mif\u001b[0m \u001b[0mverbose\u001b[0m\u001b[0;34m:\u001b[0m\u001b[0;34m\u001b[0m\u001b[0;34m\u001b[0m\u001b[0m\n\u001b[1;32m    980\u001b[0m             \u001b[0mprint\u001b[0m\u001b[0;34m(\u001b[0m\u001b[0m_FOOTER\u001b[0m\u001b[0;34m)\u001b[0m\u001b[0;34m\u001b[0m\u001b[0;34m\u001b[0m\u001b[0m\n",
      "\u001b[0;32m~/miniconda3/envs/simulation/lib/python3.9/site-packages/cvxpy/problems/problem.py\u001b[0m in \u001b[0;36munpack_results\u001b[0;34m(self, solution, chain, inverse_data)\u001b[0m\n\u001b[1;32m   1298\u001b[0m             )\n\u001b[1;32m   1299\u001b[0m         \u001b[0;32mif\u001b[0m \u001b[0msolution\u001b[0m\u001b[0;34m.\u001b[0m\u001b[0mstatus\u001b[0m \u001b[0;32min\u001b[0m \u001b[0ms\u001b[0m\u001b[0;34m.\u001b[0m\u001b[0mERROR\u001b[0m\u001b[0;34m:\u001b[0m\u001b[0;34m\u001b[0m\u001b[0;34m\u001b[0m\u001b[0m\n\u001b[0;32m-> 1300\u001b[0;31m             raise error.SolverError(\n\u001b[0m\u001b[1;32m   1301\u001b[0m                     \u001b[0;34m\"Solver '%s' failed. \"\u001b[0m \u001b[0;34m%\u001b[0m \u001b[0mchain\u001b[0m\u001b[0;34m.\u001b[0m\u001b[0msolver\u001b[0m\u001b[0;34m.\u001b[0m\u001b[0mname\u001b[0m\u001b[0;34m(\u001b[0m\u001b[0;34m)\u001b[0m \u001b[0;34m+\u001b[0m\u001b[0;34m\u001b[0m\u001b[0;34m\u001b[0m\u001b[0m\n\u001b[1;32m   1302\u001b[0m                     \u001b[0;34m\"Try another solver, or solve with verbose=True for more \"\u001b[0m\u001b[0;34m\u001b[0m\u001b[0;34m\u001b[0m\u001b[0m\n",
      "\u001b[0;31mSolverError\u001b[0m: Solver 'SCS' failed. Try another solver, or solve with verbose=True for more information."
     ]
    }
   ],
   "source": [
    "for _ in range(100):\n",
    "    S = phi.T @ phi_prev\n",
    "\n",
    "    constraints = [la.inv(M) @ phi>= H.dot(np.ones((1,T)))]\n",
    "\n",
    "    constraints += [cp.diag(S)==c,S>>0]\n",
    "\n",
    "    constraints += [S[i,i+1]>=d for i in range(0,n-1)]\n",
    "    \n",
    "    prob = cp.Problem(cp.Maximize(1/2*cp.log_det(var_0*I+ S)-10*cp.norm(phi-phi_prev)**2),constraints)\n",
    "    prob.solve()\n",
    "    \n",
    "    print(1/2*np.log(la.det(var_0*I+S.value)),0.1*la.norm(phi_prev.T.dot(phi_prev)-S.value))\n",
    "  \n",
    "    phi_prev = phi.value\n",
    "    \n",
    "#     if prob.value<1e-7:\n",
    "#         break"
   ]
  },
  {
   "cell_type": "code",
   "execution_count": 65,
   "id": "35231632-252c-4117-a570-30895aee80b2",
   "metadata": {},
   "outputs": [
    {
     "data": {
      "text/plain": [
       "7.605673454720092"
      ]
     },
     "execution_count": 65,
     "metadata": {},
     "output_type": "execute_result"
    }
   ],
   "source": [
    "1/2*np.log(la.det(var_0*I+phi_prev.T.dot(phi_prev)))"
   ]
  },
  {
   "cell_type": "code",
   "execution_count": 70,
   "id": "7520e0fa-85ed-492b-9dd1-4bf8846b59a8",
   "metadata": {},
   "outputs": [
    {
     "data": {
      "text/plain": [
       "array([[ 8.26716515,  0.51656544,  0.58929813,  0.41102509,  0.24599908,\n",
       "         0.06773517,  0.11096262],\n",
       "       [ 0.51656544,  8.27150651,  0.49175295,  0.5226798 ,  0.20970506,\n",
       "         0.06435063,  0.06548942],\n",
       "       [ 0.58929813,  0.49175295,  8.27522588,  0.63713662,  0.28467973,\n",
       "         0.09090907,  0.05026665],\n",
       "       [ 0.41102509,  0.5226798 ,  0.63713662,  8.26149668,  0.3259984 ,\n",
       "         0.06804373,  0.06522157],\n",
       "       [ 0.24599908,  0.20970506,  0.28467973,  0.3259984 ,  8.26886702,\n",
       "         0.19122735, -0.08584016],\n",
       "       [ 0.06773517,  0.06435063,  0.09090907,  0.06804373,  0.19122735,\n",
       "         8.26897177,  0.06650896],\n",
       "       [ 0.11096262,  0.06548942,  0.05026665,  0.06522157, -0.08584016,\n",
       "         0.06650896,  8.27801511]])"
      ]
     },
     "execution_count": 70,
     "metadata": {},
     "output_type": "execute_result"
    }
   ],
   "source": [
    "phi_prev.T.dot(phi_prev)"
   ]
  },
  {
   "cell_type": "code",
   "execution_count": 67,
   "id": "4ef819cc-7464-43e2-856b-53e5fe994530",
   "metadata": {},
   "outputs": [
    {
     "data": {
      "text/plain": [
       "-0.12179673379967382"
      ]
     },
     "execution_count": 67,
     "metadata": {},
     "output_type": "execute_result"
    }
   ],
   "source": [
    "1/2*np.log(la.det(var_0*I+S.value))"
   ]
  },
  {
   "cell_type": "code",
   "execution_count": 68,
   "id": "63077175-72c7-4000-8564-51fa4a56ff26",
   "metadata": {},
   "outputs": [
    {
     "data": {
      "text/plain": [
       "array([[ 1.00000153,  0.36788099,  0.17680445,  0.26734446,  0.18957795,\n",
       "         0.19205686,  0.03208584],\n",
       "       [-0.06404633,  1.00000219,  0.36788048,  0.31036128,  0.24018062,\n",
       "         0.16065981,  0.10141061],\n",
       "       [ 0.44705635,  0.26340965,  1.0000029 ,  0.44845947,  0.40465098,\n",
       "         0.27209874,  0.11935936],\n",
       "       [ 0.14406011,  0.13262937,  0.15749033,  0.99999979,  0.36788053,\n",
       "         0.30497409, -0.18677922],\n",
       "       [ 0.30682769,  0.32298222,  0.31963231,  0.09980217,  1.00000248,\n",
       "         0.36787943, -0.24423703],\n",
       "       [ 0.02199849,  0.02475791,  0.04398186, -0.10249021,  0.03354682,\n",
       "         1.00000572,  0.36788252],\n",
       "       [-0.00994607,  0.02088042,  0.02799893,  0.16638997, -0.04698762,\n",
       "        -0.09156243,  1.00000239]])"
      ]
     },
     "execution_count": 68,
     "metadata": {},
     "output_type": "execute_result"
    }
   ],
   "source": [
    "S.value"
   ]
  },
  {
   "cell_type": "markdown",
   "id": "1808817f-bb03-4b97-901a-ef6b0e471d9c",
   "metadata": {},
   "source": [
    "# Applying the alternating solver on the log-det is quite unstable and slow, much less efficient compared with the norm problem"
   ]
  }
 ],
 "metadata": {
  "kernelspec": {
   "display_name": "Python 3 (ipykernel)",
   "language": "python",
   "name": "python3"
  },
  "language_info": {
   "codemirror_mode": {
    "name": "ipython",
    "version": 3
   },
   "file_extension": ".py",
   "mimetype": "text/x-python",
   "name": "python",
   "nbconvert_exporter": "python",
   "pygments_lexer": "ipython3",
   "version": "3.9.5"
  }
 },
 "nbformat": 4,
 "nbformat_minor": 5
}
