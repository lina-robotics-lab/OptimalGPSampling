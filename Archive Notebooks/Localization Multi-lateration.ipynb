{
 "cells": [
  {
   "cell_type": "code",
   "execution_count": 101,
   "id": "aee82f4f-79ce-4b39-b333-993b9c3189cf",
   "metadata": {},
   "outputs": [],
   "source": [
    "import numpy as np\n",
    "import cvxpy as cp\n",
    "from matplotlib import pyplot as plt\n",
    "import labellines as ll"
   ]
  },
  {
   "cell_type": "markdown",
   "id": "28cecc3b-359c-49e6-83a2-81c72827b891",
   "metadata": {},
   "source": [
    "# Manually choose $x_0\\sim x_T$"
   ]
  },
  {
   "cell_type": "code",
   "execution_count": 2,
   "id": "b9407f1f-a0ad-4944-9f6b-345aaafe26de",
   "metadata": {},
   "outputs": [],
   "source": [
    "T = 8\n",
    "x = np.array([[0,0],[0,1],[1,1],[2,1],[2,2],[2,3],[3,3],[4,3],[4,4]])"
   ]
  },
  {
   "cell_type": "markdown",
   "id": "2edcc7db-e7cf-4ba6-94fa-dda0b731f083",
   "metadata": {},
   "source": [
    "## Calculate $r_{ij}$ matrix"
   ]
  },
  {
   "cell_type": "code",
   "execution_count": 58,
   "id": "1ae701be-3a47-4e3f-9ca9-ebda4b8aaaf6",
   "metadata": {},
   "outputs": [],
   "source": [
    "R=np.linalg.norm(x[:,np.newaxis,:]-x,axis=-1)\n",
    "R+=np.random.randn(*R.shape)*0.01 # Add some random noise\n",
    "R*=np.ones(R.shape)-np.eye(len(R)) # Remove the noise on the diagonal axis"
   ]
  },
  {
   "cell_type": "code",
   "execution_count": 59,
   "id": "0b4ac698-03b8-4bf6-91c8-e6771f70c600",
   "metadata": {},
   "outputs": [
    {
     "name": "stdout",
     "output_type": "stream",
     "text": [
      "[[-0.          1.00221767  1.41903322  2.24321606  2.82692579  3.5908511\n",
      "   4.24833532  5.00789817  5.65753532]\n",
      " [ 1.00199156 -0.          1.01220545  1.98757148  2.23978169  2.8320485\n",
      "   3.60370394  4.47136894  4.99788367]\n",
      " [ 1.41158007  1.00995674 -0.          1.01165204  1.41813501  2.26302494\n",
      "   2.82178069  3.6117155   4.24762566]\n",
      " [ 2.21901343  1.9970567   1.00671587  0.          0.99488667  1.99175904\n",
      "   2.24231059  2.83596099  3.61253633]\n",
      " [ 2.80897185  2.24534847  1.40979022  1.01508147  0.          1.00717961\n",
      "   1.40277179  2.23645169  2.84259482]\n",
      " [ 3.60411184  2.81996956  2.24086751  1.99247878  1.00304055 -0.\n",
      "   0.98887528  2.00619859  2.24548708]\n",
      " [ 4.23807403  3.59444693  2.84097717  2.23459321  1.42274968  1.01762946\n",
      "   0.          1.00832775  1.41053716]\n",
      " [ 4.99526172  4.47427209  3.62728406  2.84206042  2.23682461  1.99234365\n",
      "   1.00534045 -0.          1.01183312]\n",
      " [ 5.66546896  4.99942776  4.23741217  3.58950678  2.83751436  2.22791943\n",
      "   1.41860566  0.98852133  0.        ]]\n"
     ]
    }
   ],
   "source": [
    "print(R)"
   ]
  },
  {
   "cell_type": "markdown",
   "id": "c2e73375-e158-4bcc-8be8-47cf51d6ac0d",
   "metadata": {},
   "source": [
    "## Define the anchor points(known locations)"
   ]
  },
  {
   "cell_type": "code",
   "execution_count": 86,
   "id": "77e37f6c-62ab-4b89-9549-99e151b42d72",
   "metadata": {},
   "outputs": [],
   "source": [
    "# The achor points: x_0 and x_1, are assumed to be known.\n",
    "anchor_indices = [0,1,2]\n",
    "\n",
    "anchors = x[anchor_indices,:]\n",
    "\n",
    "unknown_index = range(2,9)"
   ]
  },
  {
   "cell_type": "markdown",
   "id": "e2e8094a-9432-49bc-b158-bf5044ebccc7",
   "metadata": {},
   "source": [
    "## Solve for a single unknown location using the anchor points"
   ]
  },
  {
   "cell_type": "code",
   "execution_count": 33,
   "id": "4f6f92be-3904-46f0-84f8-605dabebd6f4",
   "metadata": {},
   "outputs": [],
   "source": [
    "def substitution_multi_lateration(sensor_locs,rhat):\n",
    "    '''\n",
    "    sensor_locs: shape = (n_locs, space_dim)\n",
    "    rhat: shape = (n_locs,)\n",
    "    \n",
    "    Find the single location determined by the known sensor locations(sensor_locs) and distance readings(rhat)\n",
    "    \n",
    "    The substituion method is used in finding the solution.\n",
    "    '''\n",
    "    \n",
    "    A=2*(sensor_locs[-1,:]-sensor_locs[:-1,:])\n",
    "    \n",
    "    rfront=rhat[:-1]**2\n",
    "    \n",
    "    rback=rhat[-1]**2\n",
    "    \n",
    "    pback=np.sum(sensor_locs[-1,:]**2)\n",
    "    \n",
    "    pfront=np.sum(sensor_locs[:-1,:]**2,axis=1)\n",
    "    \n",
    "    B=rfront-rback+pback-pfront\n",
    "\n",
    "    qhat=np.linalg.pinv(A).dot(B)\n",
    "\n",
    "    return qhat"
   ]
  },
  {
   "cell_type": "code",
   "execution_count": 87,
   "id": "4802cd51-e8c1-4df1-8bde-1e392ba7e86b",
   "metadata": {},
   "outputs": [],
   "source": [
    "x_hat = np.array([substitution_multi_lateration(anchors,R[anchor_indices,u]) for u in unknown_index])"
   ]
  },
  {
   "cell_type": "code",
   "execution_count": 88,
   "id": "13862103-e5b6-4b01-b666-f3d7bb58143b",
   "metadata": {},
   "outputs": [
    {
     "name": "stdout",
     "output_type": "stream",
     "text": [
      "[[0 0]\n",
      " [0 1]\n",
      " [1 1]\n",
      " [2 1]\n",
      " [2 2]\n",
      " [2 3]\n",
      " [3 3]\n",
      " [4 3]\n",
      " [4 4]]\n",
      "[[1.01227994 0.9945477 ]\n",
      " [1.96350027 1.04078895]\n",
      " [2.00275755 1.9874437 ]\n",
      " [1.9496084  2.93685648]\n",
      " [3.01211791 3.03083545]\n",
      " [3.97432566 3.04295192]\n",
      " [3.96825872 4.01443236]]\n"
     ]
    }
   ],
   "source": [
    "print(x)\n",
    "print(x_hat)"
   ]
  },
  {
   "cell_type": "markdown",
   "id": "24cce169-92af-4a9e-a185-ee40964f8c3c",
   "metadata": {},
   "source": [
    "## Visualize"
   ]
  },
  {
   "cell_type": "code",
   "execution_count": 100,
   "id": "1c1ee516-2beb-426f-a3c3-ccb884fa0772",
   "metadata": {},
   "outputs": [
    {
     "data": {
      "image/png": "[encoded data removed]",
      "text/plain": [
       "<Figure size 432x288 with 1 Axes>"
      ]
     },
     "metadata": {
      "needs_background": "light"
     },
     "output_type": "display_data"
    },
    {
     "data": {
      "image/png": "[encoded data removed]",
      "text/plain": [
       "<Figure size 432x288 with 1 Axes>"
      ]
     },
     "metadata": {
      "needs_background": "light"
     },
     "output_type": "display_data"
    }
   ],
   "source": [
    "plt.rc('font',size=20)\n",
    "plt.plot(x[:,0],x[:,1],marker = '.',markersize = 15,label='Ground Truth')\n",
    "plt.plot(x[:3,0],x[0:3,1],marker = '.',markersize = 15,label='Anchors')\n",
    "lines = plt.gca().get_lines()\n",
    "ll.labelLine(lines[0],2.5,fontsize=20,zorder=3,yoffset=0.5)\n",
    "\n",
    "ll.labelLine(lines[1],0.5,fontsize=20,zorder=3,yoffset=0.5)\n",
    "\n",
    "plt.show()\n",
    "\n",
    "\n",
    "\n",
    "plt.plot(x_hat[:,0],x_hat[:,1],marker = '.',markersize = 15,label='Estimation')\n",
    "plt.plot(x[:3,0],x[0:3,1],marker = '.',markersize = 15,label='Anchors')\n",
    "\n",
    "# ll.labelLines(plt.gca().get_lines(),fontsize=20,zorder=3,yoffsets=0.2,align=False)\n",
    "\n",
    "lines = plt.gca().get_lines()\n",
    "\n",
    "ll.labelLine(lines[0],2.5,fontsize=20,zorder=3,yoffset=0.5)\n",
    "\n",
    "ll.labelLine(lines[1],0.5,fontsize=20,zorder=3,yoffset=0.5)\n",
    "\n",
    "plt.show()"
   ]
  }
 ],
 "metadata": {
  "kernelspec": {
   "display_name": "Python 3 (ipykernel)",
   "language": "python",
   "name": "python3"
  },
  "language_info": {
   "codemirror_mode": {
    "name": "ipython",
    "version": 3
   },
   "file_extension": ".py",
   "mimetype": "text/x-python",
   "name": "python",
   "nbconvert_exporter": "python",
   "pygments_lexer": "ipython3",
   "version": "3.9.5"
  }
 },
 "nbformat": 4,
 "nbformat_minor": 5
}
