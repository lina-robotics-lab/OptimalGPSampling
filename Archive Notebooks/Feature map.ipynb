{
 "cells": [
  {
   "cell_type": "code",
   "execution_count": 75,
   "id": "c7b247d1-ce0c-45f9-82e9-94371d51da51",
   "metadata": {},
   "outputs": [],
   "source": [
    "import numpy as np\n",
    "import numpy.linalg as la\n",
    "import cvxpy as cp\n",
    "\n",
    "from functools import partial"
   ]
  },
  {
   "cell_type": "code",
   "execution_count": 41,
   "id": "ca985a19-628d-44da-86ee-8b49936a1d23",
   "metadata": {},
   "outputs": [],
   "source": [
    "# The differentiable kernel function with parameters c,l not filled.\n",
    "def k(x1,x2,c,l):\n",
    "    small_sig = 1e-10 # This is needed for numerical stability.\n",
    "    return c * np.exp(-(np.linalg.norm(x1-x2+small_sig,axis = -1)**2) / l)\n",
    "\n",
    "def Gram(kernel,x):\n",
    "    KA = kernel(x[:,np.newaxis,:],x)\n",
    "    return KA"
   ]
  },
  {
   "cell_type": "code",
   "execution_count": 42,
   "id": "3f2956a4-cbb0-4b19-a7fd-5ecd8a341049",
   "metadata": {},
   "outputs": [],
   "source": [
    "A = np.array([[0,0],[0,1],[1,1],[2,1],[2,2],[2,3],[3,3],[4,3],[4,4]])"
   ]
  },
  {
   "cell_type": "code",
   "execution_count": null,
   "id": "62a178e5-6b5f-4339-b05b-a0f8496b5f68",
   "metadata": {},
   "outputs": [],
   "source": [
    "A = np.random.rand(100)"
   ]
  },
  {
   "cell_type": "code",
   "execution_count": 66,
   "id": "4071a4be-7f3c-418c-9a06-7899d6ee6b20",
   "metadata": {},
   "outputs": [],
   "source": [
    "c=1\n",
    "l=1\n",
    "\n",
    "kernel = partial(k,c=c,l=l)"
   ]
  },
  {
   "cell_type": "code",
   "execution_count": 101,
   "id": "6192db8c-200e-41b7-a113-b8aa104d56c8",
   "metadata": {},
   "outputs": [],
   "source": [
    "x = np.array([[0,1.5],[0.5,0]])"
   ]
  },
  {
   "cell_type": "code",
   "execution_count": 95,
   "id": "22bf0a39-c2e6-4574-a19f-88d8fbaf6b52",
   "metadata": {},
   "outputs": [],
   "source": [
    "def feature(kernel,ref_points,x):\n",
    "    K = Gram(kernel,ref_points)\n",
    "    l,U =np.linalg.eig(K)\n",
    "    M = np.diag(1/np.sqrt(l)).dot(U.T) # M.T.dot(M) = K^{-1} is satisfied.\n",
    "    print(M.shape)\n",
    "    if len(x.shape)<=1: # If x is a single vector, x.shape = (space_dim,)\n",
    "        return M.dot(kernel(ref_points,x)) # Output shape = (feature_dim(==len(ref_points)),)\n",
    "    else: # If x is a list of vector, x.shape= (T,space_dim)\n",
    "        return M.dot(kernel(ref_points[:,np.newaxis,:],x)) #Output shape = (T,feature_dim)"
   ]
  },
  {
   "cell_type": "code",
   "execution_count": 102,
   "id": "6caecf37-5394-4d86-9ded-80e2ac4c48d5",
   "metadata": {},
   "outputs": [
    {
     "name": "stdout",
     "output_type": "stream",
     "text": [
      "(9, 9)\n"
     ]
    }
   ],
   "source": [
    "feat=feature(kernel,A,x)"
   ]
  },
  {
   "cell_type": "code",
   "execution_count": 103,
   "id": "ef83baa1-3c63-4586-b6b2-87681a60505a",
   "metadata": {},
   "outputs": [
    {
     "data": {
      "text/plain": [
       "array([[0.64455332, 0.08197017],\n",
       "       [0.08197017, 0.64670242]])"
      ]
     },
     "execution_count": 103,
     "metadata": {},
     "output_type": "execute_result"
    }
   ],
   "source": [
    "feat.T.dot(feat)"
   ]
  },
  {
   "cell_type": "code",
   "execution_count": 104,
   "id": "1274f772-9210-4101-8967-b755d738a35d",
   "metadata": {},
   "outputs": [
    {
     "data": {
      "text/plain": [
       "array([[1.      , 0.082085],\n",
       "       [0.082085, 1.      ]])"
      ]
     },
     "execution_count": 104,
     "metadata": {},
     "output_type": "execute_result"
    }
   ],
   "source": [
    "Gram(kernel,x)"
   ]
  }
 ],
 "metadata": {
  "kernelspec": {
   "display_name": "Python 3 (ipykernel)",
   "language": "python",
   "name": "python3"
  },
  "language_info": {
   "codemirror_mode": {
    "name": "ipython",
    "version": 3
   },
   "file_extension": ".py",
   "mimetype": "text/x-python",
   "name": "python",
   "nbconvert_exporter": "python",
   "pygments_lexer": "ipython3",
   "version": "3.9.5"
  }
 },
 "nbformat": 4,
 "nbformat_minor": 5
}
