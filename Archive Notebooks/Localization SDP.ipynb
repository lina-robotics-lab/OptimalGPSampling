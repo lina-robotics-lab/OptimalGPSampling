{
 "cells": [
  {
   "cell_type": "code",
   "execution_count": 2,
   "id": "aee82f4f-79ce-4b39-b333-993b9c3189cf",
   "metadata": {},
   "outputs": [],
   "source": [
    "import numpy as np\n",
    "import cvxpy as cp\n",
    "from matplotlib import pyplot as plt\n",
    "import labellines as ll"
   ]
  },
  {
   "cell_type": "markdown",
   "id": "28cecc3b-359c-49e6-83a2-81c72827b891",
   "metadata": {},
   "source": [
    "# Manually choose $x_0\\sim x_T$"
   ]
  },
  {
   "cell_type": "code",
   "execution_count": 3,
   "id": "b9407f1f-a0ad-4944-9f6b-345aaafe26de",
   "metadata": {},
   "outputs": [],
   "source": [
    "T = 8\n",
    "x = np.array([[0,0],[0,1],[1,1],[2,1],[2,2],[2,3],[3,3],[4,3],[4,4]])"
   ]
  },
  {
   "cell_type": "markdown",
   "id": "2edcc7db-e7cf-4ba6-94fa-dda0b731f083",
   "metadata": {},
   "source": [
    "## Calculate $r_{ij}$ matrix"
   ]
  },
  {
   "cell_type": "code",
   "execution_count": 4,
   "id": "1ae701be-3a47-4e3f-9ca9-ebda4b8aaaf6",
   "metadata": {},
   "outputs": [],
   "source": [
    "R=np.linalg.norm(x[:,np.newaxis,:]-x,axis=-1)"
   ]
  },
  {
   "cell_type": "code",
   "execution_count": 5,
   "id": "0b4ac698-03b8-4bf6-91c8-e6771f70c600",
   "metadata": {},
   "outputs": [
    {
     "name": "stdout",
     "output_type": "stream",
     "text": [
      "[[0.         1.         1.41421356 2.23606798 2.82842712 3.60555128\n",
      "  4.24264069 5.         5.65685425]\n",
      " [1.         0.         1.         2.         2.23606798 2.82842712\n",
      "  3.60555128 4.47213595 5.        ]\n",
      " [1.41421356 1.         0.         1.         1.41421356 2.23606798\n",
      "  2.82842712 3.60555128 4.24264069]\n",
      " [2.23606798 2.         1.         0.         1.         2.\n",
      "  2.23606798 2.82842712 3.60555128]\n",
      " [2.82842712 2.23606798 1.41421356 1.         0.         1.\n",
      "  1.41421356 2.23606798 2.82842712]\n",
      " [3.60555128 2.82842712 2.23606798 2.         1.         0.\n",
      "  1.         2.         2.23606798]\n",
      " [4.24264069 3.60555128 2.82842712 2.23606798 1.41421356 1.\n",
      "  0.         1.         1.41421356]\n",
      " [5.         4.47213595 3.60555128 2.82842712 2.23606798 2.\n",
      "  1.         0.         1.        ]\n",
      " [5.65685425 5.         4.24264069 3.60555128 2.82842712 2.23606798\n",
      "  1.41421356 1.         0.        ]]\n"
     ]
    }
   ],
   "source": [
    "print(R)"
   ]
  },
  {
   "cell_type": "markdown",
   "id": "e2e8094a-9432-49bc-b158-bf5044ebccc7",
   "metadata": {},
   "source": [
    "## Define and solve the localization SDP"
   ]
  },
  {
   "cell_type": "code",
   "execution_count": 52,
   "id": "aa0bfca6-ea7f-4748-999c-59176d27517e",
   "metadata": {},
   "outputs": [],
   "source": [
    "# The achor points: x_0 and x_1, are assumed to be known.\n",
    "# x_0 = x[0,:]\n",
    "# x_1 = x[1,:]\n",
    "# x_2 = x[2,:]\n",
    "\n",
    "# Initialize the decision variables\n",
    "x_hat = cp.Variable((T+1,2))\n",
    "\n",
    "# Define the anchor point constraints\n",
    "# constraints = [x_hat[0,:]==x_0,x_hat[1,:]==x_1,x_hat[5,:]==x[5,:]]\n",
    "constraints = [x_hat[:3,:]==x[:3,:],x_hat[6:,:]==x[6:,:]]\n",
    "\n",
    "# Define the pairwise distance constraints(hard)\n",
    "R_hat = cp.vstack([cp.norm(x_hat-x_hat[i:i+1,:],axis=1) for i in range(T+1)])"
   ]
  },
  {
   "cell_type": "code",
   "execution_count": 53,
   "id": "f004fa34-46e7-4ef0-accc-c00322a64b46",
   "metadata": {},
   "outputs": [],
   "source": [
    "constraints.append(R_hat <= R)"
   ]
  },
  {
   "cell_type": "code",
   "execution_count": 54,
   "id": "1cf8d44b-4426-4574-9a7b-64ef9284df59",
   "metadata": {},
   "outputs": [],
   "source": [
    "# prob = cp.Problem(cp.Minimize(cp.sum_squares(R_hat-R)),constraints)\n",
    "prob = cp.Problem(cp.Minimize(0),constraints)\n"
   ]
  },
  {
   "cell_type": "code",
   "execution_count": 55,
   "id": "decbdec5-d66d-438f-8335-be5f7bf402af",
   "metadata": {
    "tags": []
   },
   "outputs": [
    {
     "data": {
      "text/plain": [
       "0.0"
      ]
     },
     "execution_count": 55,
     "metadata": {},
     "output_type": "execute_result"
    }
   ],
   "source": [
    "prob.solve()"
   ]
  },
  {
   "cell_type": "code",
   "execution_count": 56,
   "id": "59b8c7b7-baf6-4afc-8e5f-4beb736dda55",
   "metadata": {},
   "outputs": [
    {
     "data": {
      "text/plain": [
       "1.5466548709962595"
      ]
     },
     "execution_count": 56,
     "metadata": {},
     "output_type": "execute_result"
    }
   ],
   "source": [
    "cp.norm(R_hat-R,'fro').value"
   ]
  },
  {
   "cell_type": "code",
   "execution_count": 57,
   "id": "570b4be2-79c7-4610-b0b9-f6d4373abb04",
   "metadata": {},
   "outputs": [
    {
     "data": {
      "text/plain": [
       "array([[9.86317308e-14, 9.90194269e-14],\n",
       "       [1.10550136e-16, 1.00000000e+00],\n",
       "       [1.00000000e+00, 1.00000000e+00],\n",
       "       [1.64871456e+00, 1.47858789e+00],\n",
       "       [2.00000000e+00, 2.00000000e+00],\n",
       "       [2.35128545e+00, 2.52141209e+00],\n",
       "       [3.00000000e+00, 3.00000000e+00],\n",
       "       [4.00000000e+00, 3.00000000e+00],\n",
       "       [4.00000000e+00, 4.00000000e+00]])"
      ]
     },
     "execution_count": 57,
     "metadata": {},
     "output_type": "execute_result"
    }
   ],
   "source": [
    "x_hat.value"
   ]
  },
  {
   "cell_type": "markdown",
   "id": "24cce169-92af-4a9e-a185-ee40964f8c3c",
   "metadata": {},
   "source": [
    "## Visualize"
   ]
  },
  {
   "cell_type": "code",
   "execution_count": 58,
   "id": "1c1ee516-2beb-426f-a3c3-ccb884fa0772",
   "metadata": {},
   "outputs": [
    {
     "data": {
      "image/png": "[encoded data removed]",
      "text/plain": [
       "<Figure size 432x288 with 1 Axes>"
      ]
     },
     "metadata": {
      "needs_background": "light"
     },
     "output_type": "display_data"
    },
    {
     "data": {
      "image/png": "[encoded data removed]",
      "text/plain": [
       "<Figure size 432x288 with 1 Axes>"
      ]
     },
     "metadata": {
      "needs_background": "light"
     },
     "output_type": "display_data"
    }
   ],
   "source": [
    "plt.rc('font',size=20)\n",
    "plt.plot(x[:,0],x[:,1],marker = '.',markersize = 15,label='Ground Truth')\n",
    "ll.labelLines(plt.gca().get_lines(),fontsize=20,zorder=3,yoffsets=0.2)\n",
    "plt.show()\n",
    "\n",
    "plt.plot(x_hat.value[:,0],x_hat.value[:,1],marker = '.',markersize = 15,label='Estimation')\n",
    "ll.labelLines(plt.gca().get_lines(),fontsize=20,zorder=3,yoffsets=0.2,align=False)\n",
    "plt.show()"
   ]
  }
 ],
 "metadata": {
  "kernelspec": {
   "display_name": "Python 3 (ipykernel)",
   "language": "python",
   "name": "python3"
  },
  "language_info": {
   "codemirror_mode": {
    "name": "ipython",
    "version": 3
   },
   "file_extension": ".py",
   "mimetype": "text/x-python",
   "name": "python",
   "nbconvert_exporter": "python",
   "pygments_lexer": "ipython3",
   "version": "3.9.5"
  }
 },
 "nbformat": 4,
 "nbformat_minor": 5
}
