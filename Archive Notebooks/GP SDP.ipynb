{
 "cells": [
  {
   "cell_type": "code",
   "execution_count": 1,
   "id": "45278e9e-adb9-4902-9c93-02cb7ef1c7d8",
   "metadata": {},
   "outputs": [],
   "source": [
    "import cvxpy as cp\n",
    "import numpy as np"
   ]
  },
  {
   "cell_type": "markdown",
   "id": "c7cf3d69-ca66-42e9-b6f2-318ed1874240",
   "metadata": {},
   "source": [
    "# The problem\n",
    "\n",
    "$$\n",
    "    \\max_S \\log(\\det(I+\\sigma^{-2}S))\\\\\n",
    "    S_{ii}=c\\\\\n",
    "    S_{i,i+1}=S_{i+1,i}\\geq d\\\\\n",
    "    S\\succeq 0\\\\\n",
    "    (\\text{Without admissibility constraints})\n",
    "$$"
   ]
  },
  {
   "cell_type": "code",
   "execution_count": 2,
   "id": "a2bc2699-d918-49f8-861c-5b42539d47b7",
   "metadata": {},
   "outputs": [],
   "source": [
    "n = 5\n",
    "c = 1\n",
    "var = 0.01\n",
    "\n",
    "\n",
    "d = 0.2\n",
    "\n",
    "I = np.eye(n)\n",
    "\n",
    "S = cp.Variable((n,n),symmetric=True)"
   ]
  },
  {
   "cell_type": "code",
   "execution_count": 3,
   "id": "314f50e6-3fcf-4c1e-8b9e-3bcd86941feb",
   "metadata": {},
   "outputs": [],
   "source": [
    "constraints = [cp.diag(S)==c]\n",
    "\n",
    "constraints+=[S[i,i+1]>=d for i in range(0,n-1)]\n",
    "\n",
    "constraints+=[S>>0]\n",
    "\n",
    "prob = cp.Problem(cp.Maximize(cp.log_det(I+1/var * S)),constraints)"
   ]
  },
  {
   "cell_type": "code",
   "execution_count": 4,
   "id": "e50a94cd-29d8-4e70-b995-81152f0006fc",
   "metadata": {
    "tags": []
   },
   "outputs": [
    {
     "data": {
      "text/plain": [
       "22.915597860786303"
      ]
     },
     "execution_count": 4,
     "metadata": {},
     "output_type": "execute_result"
    }
   ],
   "source": [
    "prob.solve()"
   ]
  },
  {
   "cell_type": "code",
   "execution_count": 5,
   "id": "508d46cc-058d-4cb6-9401-627c170614a6",
   "metadata": {},
   "outputs": [],
   "source": [
    "A = S.value"
   ]
  },
  {
   "cell_type": "code",
   "execution_count": 6,
   "id": "e92c7d37-6651-4134-8f7c-10e9ca758a36",
   "metadata": {},
   "outputs": [
    {
     "data": {
      "text/plain": [
       "array([[1.00000004, 0.19999966, 0.03959013, 0.00779317, 0.00152317],\n",
       "       [0.19999966, 1.00000015, 0.19999924, 0.03958434, 0.00780734],\n",
       "       [0.03959013, 0.19999924, 1.00000015, 0.19999976, 0.03959381],\n",
       "       [0.00779317, 0.03958434, 0.19999976, 0.99999969, 0.19999937],\n",
       "       [0.00152317, 0.00780734, 0.03959381, 0.19999937, 0.99999978]])"
      ]
     },
     "execution_count": 6,
     "metadata": {},
     "output_type": "execute_result"
    }
   ],
   "source": [
    "A"
   ]
  },
  {
   "cell_type": "code",
   "execution_count": 7,
   "id": "81665783-bc89-48bb-bcbd-b7f03df113c9",
   "metadata": {},
   "outputs": [
    {
     "data": {
      "text/plain": [
       "0.19684630000542747"
      ]
     },
     "execution_count": 7,
     "metadata": {},
     "output_type": "execute_result"
    }
   ],
   "source": [
    "A[0,3]/A[0,2]"
   ]
  },
  {
   "cell_type": "code",
   "execution_count": 8,
   "id": "2dd02036-41e3-49de-b11c-c6bf5ca65570",
   "metadata": {},
   "outputs": [
    {
     "data": {
      "text/plain": [
       "-0.19801980198019803"
      ]
     },
     "execution_count": 8,
     "metadata": {},
     "output_type": "execute_result"
    }
   ],
   "source": [
    "-d/(c+var)"
   ]
  },
  {
   "cell_type": "code",
   "execution_count": 9,
   "id": "5dd58113-167c-468c-8078-f83b38db2cb7",
   "metadata": {},
   "outputs": [
    {
     "data": {
      "text/plain": [
       "0.19544968902102428"
      ]
     },
     "execution_count": 9,
     "metadata": {},
     "output_type": "execute_result"
    }
   ],
   "source": [
    "A[0,4]/A[0,3]"
   ]
  },
  {
   "cell_type": "code",
   "execution_count": 10,
   "id": "e3d81511-6261-41a2-b3be-8167a786cec6",
   "metadata": {},
   "outputs": [
    {
     "data": {
      "text/plain": [
       "0.19795098876492628"
      ]
     },
     "execution_count": 10,
     "metadata": {},
     "output_type": "execute_result"
    }
   ],
   "source": [
    "A[0,2]/A[0,1]"
   ]
  },
  {
   "cell_type": "code",
   "execution_count": 11,
   "id": "196ced0b-4531-48d2-9934-0304be649ac9",
   "metadata": {},
   "outputs": [
    {
     "data": {
      "text/plain": [
       "0.19999964994178915"
      ]
     },
     "execution_count": 11,
     "metadata": {},
     "output_type": "execute_result"
    }
   ],
   "source": [
    "A[0,1]/A[0,0]"
   ]
  }
 ],
 "metadata": {
  "kernelspec": {
   "display_name": "Python 3 (ipykernel)",
   "language": "python",
   "name": "python3"
  },
  "language_info": {
   "codemirror_mode": {
    "name": "ipython",
    "version": 3
   },
   "file_extension": ".py",
   "mimetype": "text/x-python",
   "name": "python",
   "nbconvert_exporter": "python",
   "pygments_lexer": "ipython3",
   "version": "3.9.5"
  }
 },
 "nbformat": 4,
 "nbformat_minor": 5
}
