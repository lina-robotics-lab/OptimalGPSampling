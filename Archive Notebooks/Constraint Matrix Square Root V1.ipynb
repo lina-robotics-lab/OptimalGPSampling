{
 "cells": [
  {
   "cell_type": "code",
   "execution_count": 1,
   "id": "c7b247d1-ce0c-45f9-82e9-94371d51da51",
   "metadata": {},
   "outputs": [],
   "source": [
    "import numpy as np\n",
    "import numpy.linalg as la\n",
    "import cvxpy as cp\n",
    "\n",
    "from functools import partial\n",
    "\n",
    "  \n",
    "import matplotlib.pyplot as plt\n",
    "import labellines as ll\n",
    "\n",
    "\n",
    "from shapely.geometry import Point\n",
    "from descartes import PolygonPatch\n"
   ]
  },
  {
   "cell_type": "code",
   "execution_count": 2,
   "id": "ca985a19-628d-44da-86ee-8b49936a1d23",
   "metadata": {},
   "outputs": [],
   "source": [
    "# The differentiable kernel function with parameters c,l not filled.\n",
    "def h(r,c,l):\n",
    "    return c * np.exp(-(r**2) / l**2)\n",
    "\n",
    "def k(x1,x2,c,l):\n",
    "    small_sig = 1e-10 # This is needed for numerical stability.\n",
    "    return h(np.linalg.norm(x1-x2+small_sig,axis = -1),c,l)\n",
    "\n",
    "def Gram(kernel,x):\n",
    "    KA = kernel(x[:,np.newaxis,:],x)\n",
    "    return KA"
   ]
  },
  {
   "cell_type": "code",
   "execution_count": 3,
   "id": "1ad1ade9-1c8a-4dba-8791-ac717877c203",
   "metadata": {},
   "outputs": [],
   "source": [
    "def h_inv(y,c,l):\n",
    "    return np.sqrt(np.log(c/y))*l"
   ]
  },
  {
   "cell_type": "code",
   "execution_count": 4,
   "id": "c453b12e-bda2-41f4-a2bd-e2568d0cf570",
   "metadata": {},
   "outputs": [],
   "source": [
    "kernel = partial(k,c=1,l=1)"
   ]
  },
  {
   "cell_type": "markdown",
   "id": "dac2513e-20d3-4728-97c7-61019dde259f",
   "metadata": {},
   "source": [
    "# Set up the reference points"
   ]
  },
  {
   "cell_type": "code",
   "execution_count": 23,
   "id": "8faddf41-7583-4dc7-85c7-e1f14e6a3e3a",
   "metadata": {},
   "outputs": [],
   "source": [
    "nx, ny = (4, 4)\n",
    "x = np.linspace(-2, 4, nx)\n",
    "y = np.linspace(-2, 4, ny)\n",
    "xv, yv = np.meshgrid(x, y)\n",
    "\n",
    "ref = np.array([xv.ravel(),yv.ravel()]).T\n",
    "\n",
    "uniform_radius = 9\n",
    "Rs = np.ones(len(ref))*uniform_radius\n",
    "\n",
    "K = Gram(kernel,ref)\n",
    "\n",
    "l,U =la.eig(K)\n",
    "\n",
    "M = np.diag(1/np.sqrt(l)).dot(U) # M.T.dot(M) = K^{-1} is satisfied.\n",
    "\n",
    "# Another idea of choosing M, not from the eigen decomp approach though.\n",
    "M = la.cholesky(la.inv(K)).T"
   ]
  },
  {
   "cell_type": "markdown",
   "id": "cd60dc48-9d98-4a97-91c3-11c4cd998cc0",
   "metadata": {},
   "source": [
    "# Set up the true x locations"
   ]
  },
  {
   "cell_type": "code",
   "execution_count": 24,
   "id": "d64f6e30-2c27-447f-939a-21943c4a1008",
   "metadata": {},
   "outputs": [],
   "source": [
    "x_true = np.array([[0,0],[0,1],[1,1],[2,1],[2,2],[2,3],[3,3],[4,3],[4,4]])\n",
    "S = Gram(kernel,x_true)"
   ]
  },
  {
   "cell_type": "markdown",
   "id": "d8fc369c-1b9c-41bd-bd6e-f4acc0268da8",
   "metadata": {},
   "source": [
    "# Define some constants"
   ]
  },
  {
   "cell_type": "code",
   "execution_count": 25,
   "id": "85fdeb12-e383-4f0b-9b41-aefe18a14424",
   "metadata": {},
   "outputs": [],
   "source": [
    "N = len(ref)\n",
    "T = len(x_true)"
   ]
  },
  {
   "cell_type": "markdown",
   "id": "c77811ff-217b-4474-aea9-d386f1a81625",
   "metadata": {},
   "source": [
    "# Define the decision variables that represent the feature matrix, solve for an feasible solution."
   ]
  },
  {
   "cell_type": "code",
   "execution_count": 34,
   "id": "dd35ba53-2072-4f02-8020-515eb33d5746",
   "metadata": {},
   "outputs": [],
   "source": [
    "H = h(Rs,c=1,l=1).reshape(-1,1)\n",
    "\n",
    "H.dot(np.ones((1,T))).shape\n",
    "\n",
    "phi = cp.Variable((N,T))\n",
    "\n",
    "constraints = [la.inv(M) @ phi>= H.dot(np.ones((1,T)))]\n",
    "# constraints = [la.inv(M) @ phi>= 0]\n",
    "\n",
    "\n",
    "prob=cp.Problem(cp.Maximize(0),constraints)\n",
    "\n",
    "prob.solve()\n",
    "\n",
    "phi0 = phi.value\n",
    "\n",
    "phi_prev=phi0"
   ]
  },
  {
   "cell_type": "markdown",
   "id": "144ad956-79ad-4e89-8b27-69445b64c94c",
   "metadata": {},
   "source": [
    "# Perform the alternating solver"
   ]
  },
  {
   "cell_type": "code",
   "execution_count": 69,
   "id": "5d30a9da-ee0c-4d87-8cb6-b7a40f9ea206",
   "metadata": {
    "collapsed": true,
    "jupyter": {
     "outputs_hidden": true
    },
    "tags": []
   },
   "outputs": [
    {
     "name": "stdout",
     "output_type": "stream",
     "text": [
      "8.844036296819255e-09\n",
      "8.267303631114413e-09\n",
      "8.77004096231882e-09\n",
      "9.343989815534198e-09\n",
      "8.656415270602428e-09\n",
      "7.848546974121986e-09\n",
      "8.283144790607915e-09\n",
      "8.525982974252128e-09\n",
      "8.630303583307895e-09\n",
      "8.24521800359171e-09\n",
      "7.843304407124524e-09\n",
      "7.152851851718582e-09\n",
      "6.983726369862378e-09\n",
      "6.907402856019027e-09\n",
      "6.328910503408384e-09\n",
      "6.567587880960948e-09\n",
      "5.10018291224827e-09\n",
      "5.798112492976131e-09\n",
      "5.5050356951680726e-09\n",
      "6.420595754531799e-09\n",
      "6.929650575385119e-09\n",
      "5.698392053719771e-09\n",
      "5.854702666586755e-09\n",
      "5.849184813824139e-09\n",
      "7.118775194096009e-09\n",
      "6.2609961254937795e-09\n",
      "6.8349650595629665e-09\n",
      "6.412486398040534e-09\n",
      "6.318347043745266e-09\n",
      "5.8467500788470536e-09\n",
      "5.80383518829113e-09\n",
      "6.2131957672358775e-09\n",
      "6.308105967731945e-09\n",
      "7.248792292190239e-09\n",
      "6.6071778678621295e-09\n",
      "7.161724483023724e-09\n",
      "6.135804523789045e-09\n",
      "6.854317290541419e-09\n",
      "6.675185165943852e-09\n",
      "6.772328992006979e-09\n",
      "6.115580320664563e-09\n",
      "6.90674904220437e-09\n",
      "5.8883049960876036e-09\n",
      "6.612079690618279e-09\n",
      "5.688930835349979e-09\n",
      "8.163370373300209e-09\n",
      "6.554639062522856e-09\n",
      "6.971444263714973e-09\n",
      "5.929341495623911e-09\n",
      "6.764462883683903e-09\n",
      "6.443139428498481e-09\n",
      "6.561484160246429e-09\n",
      "6.677467425711919e-09\n",
      "6.255174515975618e-09\n",
      "6.189091065654007e-09\n",
      "5.454563391078244e-09\n",
      "5.623001932510954e-09\n",
      "5.0992424197197974e-09\n",
      "5.790799103112381e-09\n",
      "7.200656698660524e-09\n",
      "4.5629721832745986e-09\n",
      "6.0164117731430664e-09\n",
      "4.747580673707566e-09\n",
      "5.665113814182444e-09\n",
      "5.002367158420961e-09\n",
      "6.172773920655318e-09\n",
      "7.3586391547626395e-09\n",
      "8.11823612900949e-09\n",
      "6.969673897887846e-09\n",
      "6.553061161786352e-09\n",
      "6.6264169174083475e-09\n",
      "5.4951676702393736e-09\n",
      "5.303160754336141e-09\n",
      "4.8702082130110036e-09\n",
      "5.003349017638003e-09\n",
      "5.217976413923622e-09\n",
      "5.322312051248438e-09\n",
      "4.638226379989974e-09\n",
      "5.199301393951246e-09\n",
      "5.371340925258569e-09\n",
      "5.064164148376978e-09\n",
      "5.549782139091755e-09\n",
      "5.039580419472736e-09\n",
      "5.260840366497631e-09\n",
      "5.216040836952297e-09\n",
      "4.761667775512507e-09\n",
      "4.925582500087929e-09\n",
      "4.790175281088135e-09\n",
      "4.849045331260561e-09\n",
      "4.7319942158874235e-09\n",
      "4.6201010958227554e-09\n",
      "4.396492983221149e-09\n",
      "4.817361990291999e-09\n",
      "4.700729076584363e-09\n",
      "5.040655994753051e-09\n",
      "5.555353597027277e-09\n",
      "6.31331946306891e-09\n",
      "6.309992090482876e-09\n",
      "5.347317563829189e-09\n",
      "5.445010217392275e-09\n",
      "4.7184769371108364e-09\n",
      "5.441464746968083e-09\n",
      "5.843028035899259e-09\n",
      "5.141078739683079e-09\n",
      "5.263851797707384e-09\n",
      "5.813482861820424e-09\n",
      "5.50718413508768e-09\n",
      "6.439596216712671e-09\n",
      "5.453302786556917e-09\n",
      "6.017478771654917e-09\n",
      "5.6662139752923315e-09\n",
      "5.550103486600506e-09\n",
      "4.832228333390005e-09\n",
      "6.836305878363211e-09\n",
      "5.360332783707973e-09\n",
      "5.7164579789367e-09\n",
      "4.326010280829507e-09\n",
      "4.795226659048465e-09\n",
      "4.384628448805479e-09\n",
      "5.419242729936641e-09\n",
      "5.785296196459795e-09\n",
      "6.746987874338325e-09\n",
      "7.352489107037914e-09\n",
      "7.047525020945144e-09\n",
      "7.618160193788612e-09\n",
      "7.847483893629316e-09\n",
      "8.898485626809341e-09\n",
      "8.815942441153669e-09\n",
      "9.038956058954102e-09\n",
      "1.1354594108188856e-08\n",
      "1.0203054618115123e-08\n",
      "9.1176305282925e-09\n",
      "8.48377716348836e-09\n",
      "1.1564379532740176e-08\n",
      "9.84794543117007e-09\n",
      "8.964355257943953e-09\n",
      "1.1403828889766334e-08\n",
      "8.691286684084963e-09\n",
      "8.215175400769927e-09\n",
      "8.532815847907596e-09\n",
      "8.982576435402117e-09\n",
      "8.544297809512523e-09\n",
      "7.998221987870273e-09\n",
      "9.051603124349772e-09\n",
      "9.727966817415711e-09\n",
      "9.906517713014338e-09\n",
      "9.143943932132532e-09\n",
      "9.227748022593744e-09\n",
      "7.927722508355599e-09\n",
      "8.385314430444604e-09\n",
      "8.167452450238814e-09\n",
      "1.0153317503464823e-08\n",
      "8.491406257481893e-09\n",
      "8.838663367832805e-09\n",
      "8.268397138451277e-09\n",
      "9.420119119707501e-09\n",
      "9.845474094776719e-09\n",
      "7.960448557420902e-09\n",
      "9.304310938959055e-09\n",
      "7.373407923176377e-09\n",
      "8.403735608068044e-09\n",
      "8.460825091514365e-09\n",
      "6.451303543272139e-09\n",
      "5.4560632768443655e-09\n",
      "6.386758026502179e-09\n",
      "6.042639680483544e-09\n",
      "7.171772981484417e-09\n",
      "6.500751320154818e-09\n",
      "6.2192961180029435e-09\n",
      "6.444360437530523e-09\n",
      "6.411443107524276e-09\n",
      "6.243523563969268e-09\n",
      "7.193493619711894e-09\n",
      "8.39165083517006e-09\n",
      "7.725867252448207e-09\n",
      "7.60607761789334e-09\n",
      "7.650146180569518e-09\n",
      "8.116642501916077e-09\n",
      "7.0939799006542774e-09\n",
      "7.251523542144466e-09\n",
      "7.606553392811125e-09\n",
      "5.898623043539367e-09\n",
      "7.568709039584728e-09\n",
      "7.712914678366236e-09\n",
      "6.849235655964251e-09\n",
      "8.557019744562585e-09\n",
      "7.638672528056361e-09\n",
      "6.786672213922881e-09\n",
      "7.570747004472427e-09\n",
      "7.920357717752501e-09\n",
      "8.596021868749532e-09\n",
      "7.803176984153295e-09\n",
      "8.505258871350397e-09\n",
      "6.900880239590894e-09\n",
      "7.291755324476259e-09\n",
      "7.217680671032184e-09\n",
      "6.854956370071476e-09\n",
      "7.14131718230047e-09\n",
      "7.408447212442354e-09\n",
      "8.812611084826579e-09\n"
     ]
    }
   ],
   "source": [
    "for _ in range(200):\n",
    "    prob = cp.Problem(cp.Minimize(cp.norm(S-phi.T @ phi_prev)**2+0.1*cp.norm(phi-phi_prev)**2),constraints)\n",
    "    prob.solve()\n",
    "    phi_prev = phi.value\n",
    "    print(prob.value,)"
   ]
  },
  {
   "cell_type": "markdown",
   "id": "34786178-64ac-4caa-8869-3c29daafacb5",
   "metadata": {},
   "source": [
    "# The solution $\\phi$ is good enough using alternating method."
   ]
  },
  {
   "cell_type": "markdown",
   "id": "bade3b1d-6ca2-4f78-a0ae-adf6e96bedc5",
   "metadata": {},
   "source": [
    "# However, using the distance inversion to solve for the sample locations is very unsuccessful. Big error propagates to the end.\n",
    "# Therefore, I will directly apply Scipy to recover locations from the $\\phi$ in the next notebook."
   ]
  },
  {
   "cell_type": "markdown",
   "id": "a21d8076-24da-4471-b3b0-adf78c9c26ce",
   "metadata": {},
   "source": [
    "# Invert the feature to get the distance matrix."
   ]
  },
  {
   "cell_type": "code",
   "execution_count": 54,
   "id": "158cce69-45fe-4013-b72b-9661bd7d0cee",
   "metadata": {},
   "outputs": [
    {
     "name": "stderr",
     "output_type": "stream",
     "text": [
      "/tmp/ipykernel_102238/2812365218.py:2: RuntimeWarning: invalid value encountered in log\n",
      "  return np.sqrt(np.log(c/y))*l\n"
     ]
    }
   ],
   "source": [
    "Rhats = h_inv(la.inv(M).dot(phi_prev),c=1,l=1)"
   ]
  },
  {
   "cell_type": "markdown",
   "id": "305463c4-d9cb-4d34-a80b-720f65e03a25",
   "metadata": {},
   "source": [
    "# Call localization toolbox to recover the sample locations"
   ]
  },
  {
   "cell_type": "code",
   "execution_count": 42,
   "id": "68524c99-5817-4f31-8380-e4ee48ebade4",
   "metadata": {},
   "outputs": [],
   "source": [
    "from Localization import substitution_multi_lateration,iterative_multi_lateration"
   ]
  },
  {
   "cell_type": "code",
   "execution_count": 75,
   "id": "df99d4e6-c71f-4037-8749-395437f6fd57",
   "metadata": {},
   "outputs": [],
   "source": [
    "R_ref = la.norm(ref[:,np.newaxis,:]-ref,axis=-1)\n",
    "sample_locs = []\n",
    "for i in range(T):\n",
    "    positives = np.logical_not(np.isnan(Rhats[:,i]))\n",
    "    init_guess = substitution_multi_lateration(ref[positives],Rhats[:,i][positives])\n",
    "\n",
    "    init_guess = init_guess.reshape(1,-1)\n",
    "\n",
    "#     guess=init_guess\n",
    "    guess = iterative_multi_lateration(ref,init_guess,np.vstack([np.hstack([R_ref,Rhats[:,i].reshape(-1,1)]),np.hstack([Rhats[:,i],0])]),epsilon=1e-6)\n",
    "    \n",
    "    sample_locs.append(guess)"
   ]
  },
  {
   "cell_type": "code",
   "execution_count": 76,
   "id": "4cf55647-7797-495d-b11f-66db4d32d76d",
   "metadata": {},
   "outputs": [],
   "source": [
    "sample_locs = np.array(sample_locs).reshape(T,-1)"
   ]
  },
  {
   "cell_type": "code",
   "execution_count": 79,
   "id": "8bf4610f-56df-4fbc-999c-e38848317519",
   "metadata": {},
   "outputs": [
    {
     "data": {
      "text/plain": [
       "array([[        nan,         nan],\n",
       "       [ 3.53815475, -1.65796258],\n",
       "       [-0.82142096,  0.03747007],\n",
       "       [ 1.52859934,  0.68450813],\n",
       "       [ 1.53268019, -0.50990484],\n",
       "       [ 0.56731413,  0.34095244],\n",
       "       [ 2.99412312,  1.67742773],\n",
       "       [ 0.02202523,  1.32810777],\n",
       "       [        nan,         nan]])"
      ]
     },
     "execution_count": 79,
     "metadata": {},
     "output_type": "execute_result"
    }
   ],
   "source": [
    "sample_locs"
   ]
  },
  {
   "cell_type": "code",
   "execution_count": 83,
   "id": "a101c2bd-f95c-41bf-8b48-2ab8df96be67",
   "metadata": {},
   "outputs": [],
   "source": [
    "from RKHS import feature"
   ]
  },
  {
   "cell_type": "code",
   "execution_count": 92,
   "id": "c8fece17-a4a8-41e7-88aa-2528ceacef71",
   "metadata": {},
   "outputs": [
    {
     "data": {
      "text/plain": [
       "array([ 0.12794087, -0.07344097,  0.28783819,  0.23326942, -0.00492678,\n",
       "        0.00513134,  0.27147379, -0.18456185, -0.24456801,  0.2059295 ,\n",
       "       -0.00925427, -0.0547045 ,  0.01005783,  0.01005412, -0.36321094,\n",
       "        0.13778998])"
      ]
     },
     "execution_count": 92,
     "metadata": {},
     "output_type": "execute_result"
    }
   ],
   "source": [
    "feature(kernel, ref,sample_locs[1])"
   ]
  },
  {
   "cell_type": "code",
   "execution_count": 91,
   "id": "fc7224ce-83f1-45f4-8cad-99596b675084",
   "metadata": {},
   "outputs": [
    {
     "data": {
      "text/plain": [
       "array([ 6.86212868e-04,  3.43486074e-04, -1.65982872e-02,  9.54376339e-01,\n",
       "        2.71524279e-01, -2.20248596e-03,  1.44199290e-04,  1.85451616e-03,\n",
       "       -1.14156631e-03,  1.20128060e-01,  2.61455134e-04, -3.52059320e-04,\n",
       "        3.10929039e-04,  5.94293355e-06, -4.49092388e-04,  2.60032576e-02])"
      ]
     },
     "execution_count": 91,
     "metadata": {},
     "output_type": "execute_result"
    }
   ],
   "source": [
    "phi_prev[:,1]"
   ]
  },
  {
   "cell_type": "code",
   "execution_count": 77,
   "id": "ee84d309-95d1-436a-b0e5-5d84a843ca9d",
   "metadata": {},
   "outputs": [],
   "source": [
    "sols = {\n",
    "#     'Reference points':ref,\\\n",
    "        'Sample Locs':sample_locs,'Truth':x_true}"
   ]
  },
  {
   "cell_type": "code",
   "execution_count": 78,
   "id": "5dcfa1b9-0aa4-4035-b0fe-6b74e45d3116",
   "metadata": {},
   "outputs": [
    {
     "data": {
      "image/png": "[encoded data removed]",
      "text/plain": [
       "<Figure size 1200x800 with 1 Axes>"
      ]
     },
     "metadata": {
      "needs_background": "light"
     },
     "output_type": "display_data"
    }
   ],
   "source": [
    "plt.rc('font',size=11)\n",
    "plt.figure(dpi=200)\n",
    "for key,val in sols.items():\n",
    "    plt.scatter(val[:,0],val[:,1],marker = '.',s = 15,label=key)\n",
    "    \n",
    "    plt.gca().set_aspect('equal')\n",
    "#     plt.show()\n",
    "\n",
    "    \n",
    "points = [Point(*x) for x in ref]\n",
    "constraint_set  = None\n",
    "\n",
    "for p,r in zip(points,Rs):\n",
    "    \n",
    "    if constraint_set is None:\n",
    "        constraint_set = p.buffer(r)\n",
    "    else:\n",
    "        constraint_set = constraint_set.intersection(p.buffer(r))\n",
    "\n",
    "plt.gca().add_patch(PolygonPatch(constraint_set,alpha=0.3))\n",
    "\n",
    "# plt.text(-2,0.9,r'Constraint Set for $x_i$')\n",
    "\n",
    "# plt.xlim((-5,8))\n",
    "# plt.ylim((-5,8))\n",
    "# plt.legend()\n",
    "# plt.show()\n",
    "# circ = plt.Circle(search_region_center,search_region_radius,label='Search Region Boundary',fill=False)\n",
    "# plt.gca().add_patch(circ)\n",
    "# ll.labelLines(plt.gca().get_lines(),fontsize=12,zorder=3,yoffsets=1.5,align=False)\n",
    "plt.legend()\n",
    "plt.show()"
   ]
  }
 ],
 "metadata": {
  "kernelspec": {
   "display_name": "Python 3 (ipykernel)",
   "language": "python",
   "name": "python3"
  },
  "language_info": {
   "codemirror_mode": {
    "name": "ipython",
    "version": 3
   },
   "file_extension": ".py",
   "mimetype": "text/x-python",
   "name": "python",
   "nbconvert_exporter": "python",
   "pygments_lexer": "ipython3",
   "version": "3.9.5"
  }
 },
 "nbformat": 4,
 "nbformat_minor": 5
}
