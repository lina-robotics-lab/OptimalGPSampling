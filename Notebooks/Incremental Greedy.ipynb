{
 "cells": [
  {
   "cell_type": "code",
   "execution_count": 1,
   "id": "38477010-c66a-4dc3-af50-8ef0d3cc2220",
   "metadata": {},
   "outputs": [],
   "source": [
    "import numpy as np\n",
    "\n",
    "    \n",
    "import matplotlib.pyplot as plt\n",
    "import labellines as ll\n",
    "\n",
    "from functools import partial\n",
    "\n",
    "from RKHS import Gram\n",
    "\n",
    "%load_ext autoreload\n",
    "%autoreload 2"
   ]
  },
  {
   "cell_type": "code",
   "execution_count": 2,
   "id": "d2a9c793-6df2-4fa6-8156-e180850a26aa",
   "metadata": {},
   "outputs": [],
   "source": [
    "def h(r,c,l):\n",
    "    return c * np.exp(-(r**2) / l**2)\n",
    "\n",
    "# The differentiable kernel function with parameters c,l not filled.\n",
    "\n",
    "def k(x1,x2,c,l):\n",
    "    small_sig = 1e-10 # This is needed for numerical stability.\n",
    "    return h(np.linalg.norm(x1-x2+small_sig,axis = -1),c,l)\n",
    "\n",
    "def GPMI(x,c,l,var_0):# The mutual information for a GP.\n",
    "    x = x.reshape(-1,2)\n",
    "    KA = k(x[:,np.newaxis,:],x,c,l)\n",
    "    if var_0>0:\n",
    "        return 1/2*np.log(np.linalg.det(np.eye(len(KA))+KA/var_0))\n",
    "    else:\n",
    "        return 1/2*np.log(np.linalg.det(KA))"
   ]
  },
  {
   "cell_type": "code",
   "execution_count": 3,
   "id": "79e0fb4b-0d13-4436-b23f-788d34c30035",
   "metadata": {},
   "outputs": [],
   "source": [
    "def marginal_gain(x_new,x_old,kernel):\n",
    "    '''\n",
    "        Calculate the marginal gain in mutual information, given x_old has been collected, and a list of candidate x_new's is to be collected.\n",
    "        \n",
    "        x_old.shape = (t,space_dim)\n",
    "        \n",
    "        x_new.shape = (n,space_dim)\n",
    "        \n",
    "        Output: shape = (n), output[i] = marginal gain for x_new[i].\n",
    "    '''\n",
    "    \n",
    "    S = Gram(kernel,x_old)\n",
    "\n",
    "    k_t = kernel(x_new[:,np.newaxis,:],x_old).T\n",
    "\n",
    "\n",
    "\n",
    "    return 1/2*np.log(1 + c/var_0 \\\n",
    "                   - 1/var_0**2 *np.sum(k_t.T.dot(np.linalg.inv(\\\n",
    "                                np.eye(len(S))+1/var_0 * S))* k_t.T,axis=-1))"
   ]
  },
  {
   "cell_type": "code",
   "execution_count": 7,
   "id": "1b63327f-9c1c-40d6-8e14-070b22331c56",
   "metadata": {},
   "outputs": [],
   "source": [
    "def incremental_greedy(kernel,x0,step_size,ref,R,T):\n",
    "    xs = [x0]\n",
    "\n",
    "    n_test = 2 * 10 ** 5\n",
    "\n",
    "    for _ in range(T-1):\n",
    "        # Generate the feasible random samples\n",
    "        rand_theta = np.random.rand(n_test)*2*np.pi\n",
    "\n",
    "        rand_dir = np.array([np.cos(rand_theta),np.sin(rand_theta)])\n",
    "\n",
    "        x_test = xs[-1]+(step_size*np.random.rand(n_test)*rand_dir).T # Step size constraint.\n",
    "\n",
    "        x_test = x_test[(np.linalg.norm(x_test[:,np.newaxis,:]-ref,axis=-1)<=R).ravel()] # Bounded region constraint.\n",
    "\n",
    "        gain = marginal_gain(x_test,np.array(xs),kernel)\n",
    "\n",
    "        x_best = x_test[np.argmax(gain)]\n",
    "\n",
    "        xs.append(x_best)\n",
    "    return np.array(xs)"
   ]
  },
  {
   "cell_type": "code",
   "execution_count": 4,
   "id": "f0a4492f-86d9-4d9a-8a17-7844213cc930",
   "metadata": {},
   "outputs": [],
   "source": [
    "c = 1\n",
    "l = 1\n",
    "var_0 = 0.01\n",
    "\n",
    "step_size = 1\n",
    "\n",
    "T = 19\n",
    "\n",
    "kernel = partial(k,c=c,l=l)\n",
    "objective = partial(GPMI,c=c,l=l,var_0=var_0)\n",
    "\n",
    "\n",
    "search_region_center = np.array([0.,0.])\n",
    "search_region_radius = 3\n",
    "\n",
    "ref = np.array([0,0])\n",
    "\n",
    "R = search_region_radius"
   ]
  },
  {
   "cell_type": "code",
   "execution_count": 8,
   "id": "c1ed602a-2c42-4a23-9a79-226569c93393",
   "metadata": {},
   "outputs": [],
   "source": [
    "x0 = np.array([0,0])\n",
    "    \n",
    "xs = incremental_greedy(kernel,x0,step_size,ref,R,T)"
   ]
  },
  {
   "cell_type": "code",
   "execution_count": 9,
   "id": "1afc7b19-1540-42f0-b744-c172b925fee9",
   "metadata": {},
   "outputs": [
    {
     "data": {
      "image/png": "[encoded data removed]",
      "text/plain": [
       "<Figure size 432x288 with 1 Axes>"
      ]
     },
     "metadata": {
      "needs_background": "light"
     },
     "output_type": "display_data"
    }
   ],
   "source": [
    "xs = np.array(xs)\n",
    "plt.plot(xs[:,0],xs[:,1],marker='o')\n",
    "circ = plt.Circle(ref,R,fill=False)\n",
    "plt.gca().add_patch(circ)\n",
    "plt.gca().set_aspect('equal')"
   ]
  },
  {
   "cell_type": "code",
   "execution_count": 10,
   "id": "556a1408-af32-4417-9001-827002ae4c34",
   "metadata": {},
   "outputs": [
    {
     "data": {
      "text/plain": [
       "4.2504576696396505e+01"
      ]
     },
     "execution_count": 10,
     "metadata": {},
     "output_type": "execute_result"
    }
   ],
   "source": [
    "objective(xs)"
   ]
  }
 ],
 "metadata": {
  "kernelspec": {
   "display_name": "Python 3 (ipykernel)",
   "language": "python",
   "name": "python3"
  },
  "language_info": {
   "codemirror_mode": {
    "name": "ipython",
    "version": 3
   },
   "file_extension": ".py",
   "mimetype": "text/x-python",
   "name": "python",
   "nbconvert_exporter": "python",
   "pygments_lexer": "ipython3",
   "version": "3.9.5"
  }
 },
 "nbformat": 4,
 "nbformat_minor": 5
}
