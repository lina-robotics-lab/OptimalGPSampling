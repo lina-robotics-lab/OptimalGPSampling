{
 "cells": [
  {
   "cell_type": "code",
   "execution_count": 1,
   "id": "45278e9e-adb9-4902-9c93-02cb7ef1c7d8",
   "metadata": {},
   "outputs": [],
   "source": [
    "import cvxpy as cp\n",
    "import numpy as np\n",
    "\n",
    "from RKHS import Gram\n",
    "\n",
    "from functools import partial"
   ]
  },
  {
   "cell_type": "code",
   "execution_count": 3,
   "id": "ec636d00-b2b7-463e-8d57-ad746ea0b8bd",
   "metadata": {},
   "outputs": [],
   "source": [
    "def h(r,c,l):\n",
    "    return c * np.exp(-(r**2) / l**2)\n",
    "\n",
    "def k(x1,x2,c,l):\n",
    "    small_sig = 1e-10 # This is needed for numerical stability.\n",
    "    return h(np.linalg.norm(x1-x2+small_sig,axis = -1),c,l)"
   ]
  },
  {
   "cell_type": "markdown",
   "id": "c7cf3d69-ca66-42e9-b6f2-318ed1874240",
   "metadata": {},
   "source": [
    "# The problem\n",
    "Given reference points $a_{1:N}$, inducing $A = [k(a_i,a_j)]$.\n",
    "\n",
    "The ultimate problem we attempt to solve is,\n",
    "\n",
    "$$\n",
    "\t\t\\max_{x_1,x_2,...,x_{T}} F(x_{1:T})\\\\\n",
    "        ~||x_{t+1}-x_t||\\leq D,~\\forall t=1,...,T-1\\\\\n",
    "\t\t~ ||x_t-a_k||\\leq R_{t,k},~\\forall 1\\leq t \\leq T,~1\\leq k\\leq N\n",
    "$$\n",
    "\n",
    "where $R_{t,k}$ are pre-specified distance bounds to the reference points. \n",
    "\n",
    "The convex relaxation of the above we consider hereafter is\n",
    "$$\n",
    "    \\max_{\\Sigma,B}~\\log\\det(I+\\Sigma/\\sigma^2)\\\\\n",
    "\t\ts.t.~M=\\begin{bmatrix}\n",
    "    \\Sigma & B\\\\\n",
    "B^\\top & A\n",
    "\\end{bmatrix}\\succ 0\\\\\n",
    "~\\Sigma_{ii}=c,\\forall i=1,2,...,T\\\\\n",
    "~\\Sigma_{i,i+1}\\geq d,\\forall i=1,...,T-1\\\\\n",
    "~B_{ik}\\geq b_{ik}=h(R_{i,k}),\\forall i,k\\\\\n",
    "(\\text{Without admissibility constraints})\n",
    "$$\n",
    "\n",
    "Very often we want to impose the constraint that the initial location $x_1$ is fixed, this can be achieve by specifying the desired initial location as the value of $a_1$ and impose $||x_1-a_1||\\leq 0$, or $b_{11} = h(0)$.\n",
    "\n",
    "The optimal value of the convex relaxation is an upper bound on the ultimate problem, which could be loose.\n"
   ]
  },
  {
   "cell_type": "code",
   "execution_count": 36,
   "id": "a2bc2699-d918-49f8-861c-5b42539d47b7",
   "metadata": {},
   "outputs": [],
   "source": [
    "T = 7\n",
    "\n",
    "n = T\n",
    "c = 1\n",
    "l = 1 \n",
    "step_size = 1\n",
    "\n",
    "var = 0.01\n",
    "\n",
    "\n",
    "d = h(step_size,c=c,l=l)\n",
    "\n",
    "I = np.eye(n)\n",
    "\n",
    "\n",
    "kernel = partial(k,c=c,l=l)"
   ]
  },
  {
   "cell_type": "code",
   "execution_count": 50,
   "id": "9a941a98-4a21-4eb2-b8f6-32ac50bdcb77",
   "metadata": {},
   "outputs": [],
   "source": [
    "ref = np.array([[0,0]]) # A single point reference set.\n",
    "R = np.array([[1]])\n",
    "A = Gram(kernel,ref)\n",
    "\n",
    "N = len(A)\n",
    "\n",
    "\n",
    "b = np.ones((T,N))*h(R,c=c,l=l)\n",
    "b[0,0] = h(0,c=c,l=l) # Initial location constraint."
   ]
  },
  {
   "cell_type": "code",
   "execution_count": 51,
   "id": "d91ab02b-ffca-43f4-a1b8-ba4c951fe740",
   "metadata": {},
   "outputs": [],
   "source": [
    "# Define and solve the problem\n",
    "B = cp.Variable((T,N))\n",
    "\n",
    "S = cp.Variable((T,T),symmetric=True)\n",
    "\n",
    "M = cp.vstack([cp.hstack([S,B]),\n",
    "               cp.hstack([B.T,A])])\n",
    "\n",
    "\n",
    "constraints = [M>>0]\n",
    "\n",
    "\n",
    "constraints += [cp.diag(S)==c]\n",
    "\n",
    "constraints += [S[i,i+1]>=d for i in range(0,T-2)]\n",
    "\n",
    "constraints += [B>=b]\n",
    "\n",
    "\n",
    "\n",
    "prob = cp.Problem(cp.Maximize(1/2*cp.log_det(np.eye(T)+ S/var)),constraints)\n",
    "\n",
    "upper_bound = prob.solve()"
   ]
  },
  {
   "cell_type": "code",
   "execution_count": 52,
   "id": "a16d1cf1-ccb5-4aef-adae-8494e5db0dfd",
   "metadata": {},
   "outputs": [
    {
     "data": {
      "text/plain": [
       "15.578051640072232"
      ]
     },
     "execution_count": 52,
     "metadata": {},
     "output_type": "execute_result"
    }
   ],
   "source": [
    "upper_bound"
   ]
  },
  {
   "cell_type": "code",
   "execution_count": null,
   "id": "2edeb2a1-1703-4df3-815f-63ca1f00d220",
   "metadata": {},
   "outputs": [],
   "source": [
    "x"
   ]
  }
 ],
 "metadata": {
  "kernelspec": {
   "display_name": "Python 3 (ipykernel)",
   "language": "python",
   "name": "python3"
  },
  "language_info": {
   "codemirror_mode": {
    "name": "ipython",
    "version": 3
   },
   "file_extension": ".py",
   "mimetype": "text/x-python",
   "name": "python",
   "nbconvert_exporter": "python",
   "pygments_lexer": "ipython3",
   "version": "3.9.5"
  }
 },
 "nbformat": 4,
 "nbformat_minor": 5
}
