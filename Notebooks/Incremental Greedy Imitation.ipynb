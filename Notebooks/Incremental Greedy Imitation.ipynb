{
 "cells": [
  {
   "cell_type": "code",
   "execution_count": 13,
   "id": "e236bf1b-fdb0-400a-8736-fb7da651d7ba",
   "metadata": {},
   "outputs": [
    {
     "name": "stdout",
     "output_type": "stream",
     "text": [
      "The autoreload extension is already loaded. To reload it, use:\n",
      "  %reload_ext autoreload\n"
     ]
    }
   ],
   "source": [
    "import numpy as np\n",
    "\n",
    "    \n",
    "import matplotlib.pyplot as plt\n",
    "import labellines as ll\n",
    "\n",
    "from functools import partial\n",
    "\n",
    "import pickle as pkl\n",
    "\n",
    "from jax import jit\n",
    "from jax import numpy as jp\n",
    "\n",
    "import cvxpy as cp\n",
    "\n",
    "from RKHS import Gram\n",
    "%load_ext autoreload\n",
    "%autoreload 2"
   ]
  },
  {
   "cell_type": "code",
   "execution_count": 2,
   "id": "4fa09404-78d1-4789-82bd-3548bce97ebf",
   "metadata": {},
   "outputs": [],
   "source": [
    "def h(r,c,l):\n",
    "    return c * jp.exp(-(r**2) / l**2)\n",
    "\n",
    "# The differentiable kernel function with parameters c,l not filled.\n",
    "\n",
    "def k(x1,x2,c,l):\n",
    "    small_sig = 1e-10 # This is needed for numerical stability.\n",
    "    return h(jp.linalg.norm(x1-x2+small_sig,axis = -1),c,l)"
   ]
  },
  {
   "cell_type": "code",
   "execution_count": 3,
   "id": "be7302b0-5ca3-441d-a490-0943aedae0f5",
   "metadata": {},
   "outputs": [],
   "source": [
    "def GPMI(x,c,l,var_0):# The mutual information for a GP.\n",
    "    x = x.reshape(-1,2)\n",
    "    KA = k(x[:,jp.newaxis,:],x,c,l)\n",
    "    if var_0>0:\n",
    "        return 1/2*jp.log(jp.linalg.det(np.eye(len(KA))+KA/var_0))\n",
    "    else:\n",
    "        return 1/2*jp.log(jp.linalg.det(KA))"
   ]
  },
  {
   "cell_type": "markdown",
   "id": "a63ff349-befb-4b30-a5c3-8b460a6132c5",
   "metadata": {},
   "source": [
    "# Experiment parameters"
   ]
  },
  {
   "cell_type": "code",
   "execution_count": 22,
   "id": "c797265c-259d-4278-a9cc-3f6e5a4400af",
   "metadata": {},
   "outputs": [],
   "source": [
    "T = 19\n",
    "\n",
    "c = 1\n",
    "l = 1\n",
    "var_0 = 0.01\n",
    "\n",
    "\n",
    "search_region_center = np.array([0.,0.])\n",
    "search_region_radius = 1\n",
    "step_size = 1\n",
    "\n",
    "# The reference system.\n",
    "ref = np.array([[0,0]]) # A single point reference set.\n",
    "R = np.array([search_region_radius*np.ones(T)]).T\n",
    "R[0,0] = 0\n",
    "\n",
    "N = len(ref)\n",
    "\n",
    "x0 = search_region_center"
   ]
  },
  {
   "cell_type": "markdown",
   "id": "cc4121dd-820c-4f98-8919-eb470bc5248c",
   "metadata": {},
   "source": [
    "# Callables"
   ]
  },
  {
   "cell_type": "code",
   "execution_count": 7,
   "id": "d7915edd-751f-45e3-a564-7fadd221413a",
   "metadata": {},
   "outputs": [],
   "source": [
    "\n",
    "x_objective = jit(lambda z: GPMI(z,c=c,l=l,var_0=var_0))\n",
    "\n",
    "kernel = partial(k,c=c,l=l)\n"
   ]
  },
  {
   "cell_type": "markdown",
   "id": "715d53e8-a361-4c38-a14d-88f25463301e",
   "metadata": {},
   "source": [
    "# Solve for the upper bound under the bounded region constraint\n",
    "Given reference points $a_{1:N}$, inducing $A = [k(a_i,a_j)]$.\n",
    "\n",
    "The ultimate problem we attempt to solve is,\n",
    "\n",
    "$$\n",
    "\t\t\\max_{x_1,x_2,...,x_{T}} F(x_{1:T})\\\\\n",
    "        ~||x_{t+1}-x_t||\\leq D,~\\forall t=1,...,T-1\\\\\n",
    "\t\t~ ||x_t-a_k||\\leq R_{t,k},~\\forall 1\\leq t \\leq T,~1\\leq k\\leq N\n",
    "$$\n",
    "\n",
    "where $R_{t,k}$ are pre-specified distance bounds to the reference points. \n",
    "\n",
    "The convex relaxation of the above we consider hereafter is\n",
    "$$\n",
    "    \\max_{\\Sigma,B}~\\log\\det(I+\\Sigma/\\sigma^2)\\\\\n",
    "\t\ts.t.~M=\\begin{bmatrix}\n",
    "    \\Sigma & B\\\\\n",
    "B^\\top & A\n",
    "\\end{bmatrix}\\succ 0\\\\\n",
    "~\\Sigma_{ii}=c,\\forall i=1,2,...,T\\\\\n",
    "~\\Sigma_{i,i+1}\\geq d,\\forall i=1,...,T-1\\\\\n",
    "~B_{ik}\\geq b_{ik}=h(R_{i,k}),\\forall i,k\\\\\n",
    "(\\text{Without admissibility constraints})\n",
    "$$\n",
    "\n",
    "Very often we want to impose the constraint that the initial location $x_1$ is fixed, this can be achieve by specifying the desired initial location as the value of $a_1$ and impose $||x_1-a_1||\\leq 0$, or $b_{11} = h(0)$.\n",
    "\n",
    "The optimal value of the convex relaxation is an upper bound on the ultimate problem, which could be loose.\n"
   ]
  },
  {
   "cell_type": "code",
   "execution_count": 23,
   "id": "9da2ff0d-eed5-4743-a54e-76dd4e82a782",
   "metadata": {},
   "outputs": [],
   "source": [
    "\n",
    "d = h(step_size,c=c,l=l)\n",
    "\n",
    "A = Gram(kernel,ref)\n",
    "\n",
    "N = len(A)\n",
    "\n",
    "\n",
    "\n",
    "b = np.ones((T,N))*np.array(h(R,c=c,l=l))\n",
    "b[0,0] = h(0,c=c,l=l) # Initial location constraint."
   ]
  },
  {
   "cell_type": "code",
   "execution_count": 24,
   "id": "b1ec90a8-adf5-49b2-ad72-8d43b371eeee",
   "metadata": {},
   "outputs": [],
   "source": [
    "# Define and solve the problem\n",
    "B = cp.Variable((T,N))\n",
    "\n",
    "S = cp.Variable((T,T),symmetric=True)\n",
    "\n",
    "M = cp.vstack([cp.hstack([S,B]),\n",
    "               cp.hstack([B.T,A])])\n",
    "\n",
    "\n",
    "constraints = [M>>0]\n",
    "\n",
    "\n",
    "constraints += [cp.diag(S)==c]\n",
    "\n",
    "constraints += [S[i,i+1]>=d for i in range(0,T-2)]\n",
    "\n",
    "constraints += [S>=h(2*search_region_radius,c,l)]\n",
    "\n",
    "constraints += [B>=1*b]\n",
    "\n",
    "\n",
    "\n",
    "prob = cp.Problem(cp.Maximize(1/2*cp.log_det(np.eye(T)+ S/var_0)),constraints)\n",
    "\n",
    "upper_bound = prob.solve()"
   ]
  },
  {
   "cell_type": "code",
   "execution_count": 25,
   "id": "61290dfa-ce2f-4738-a3b2-216eea6df299",
   "metadata": {},
   "outputs": [
    {
     "data": {
      "text/plain": [
       "41.99077922957981"
      ]
     },
     "execution_count": 25,
     "metadata": {},
     "output_type": "execute_result"
    }
   ],
   "source": [
    "upper_bound"
   ]
  },
  {
   "cell_type": "code",
   "execution_count": 27,
   "id": "fd1739ef-d083-49bd-b19f-c6755c9bbb74",
   "metadata": {
    "tags": []
   },
   "outputs": [],
   "source": [
    "S_target = S.value"
   ]
  },
  {
   "cell_type": "markdown",
   "id": "998d589a-b545-4dec-a1cd-4728a5b96679",
   "metadata": {},
   "source": [
    "# Can we use the incremental greedy idea to build a set of $x_{1:T}$ the imitates the optimal $\\Sigma$ value as above?"
   ]
  },
  {
   "cell_type": "code",
   "execution_count": 140,
   "id": "50ac5206-246f-45f6-bf33-0afe240d889e",
   "metadata": {},
   "outputs": [
    {
     "name": "stdout",
     "output_type": "stream",
     "text": [
      "1\n",
      "2\n",
      "3\n",
      "4\n",
      "5\n",
      "6\n",
      "7\n",
      "8\n",
      "9\n",
      "10\n",
      "11\n",
      "12\n",
      "13\n",
      "14\n",
      "15\n",
      "16\n",
      "17\n",
      "18\n"
     ]
    }
   ],
   "source": [
    "xs = [x0]\n",
    "\n",
    "ref=search_region_center\n",
    "R = search_region_radius\n",
    "n_test = 2 * 10 ** 5\n",
    "\n",
    "for _ in range(T-1):\n",
    "    t = len(xs)\n",
    "    \n",
    "    print(t)\n",
    "    # Generate the feasible random samples\n",
    "    rand_theta = np.random.rand(n_test)*2*np.pi\n",
    "\n",
    "    rand_dir = np.array([np.cos(rand_theta),np.sin(rand_theta)])\n",
    "\n",
    "    x_test = xs[-1]+(step_size*np.random.rand(n_test)*rand_dir).T # Step size constraint.\n",
    "\n",
    "    x_test = x_test[(np.linalg.norm(x_test[:,np.newaxis,:]-ref,axis=-1)<=R).ravel()] # Bounded region constraint.\n",
    "\n",
    "\n",
    "\n",
    "    k_t = kernel(x_test[:,np.newaxis,:],xs)\n",
    "\n",
    "    k_target = S_target[t,:t]\n",
    "    \n",
    "    \n",
    "\n",
    "    x_new = x_test[np.argmin(np.linalg.norm(k_t-k_target,axis=1))]\n",
    "    \n",
    "#     print(k_target,kernel(x_new,xs),np.linalg.norm(k_t-k_target,axis=1))\n",
    "    \n",
    "    xs.append(x_new)"
   ]
  },
  {
   "cell_type": "code",
   "execution_count": 122,
   "id": "16ec041a-30ca-4325-b346-8166f4d5cde4",
   "metadata": {},
   "outputs": [
    {
     "data": {
      "text/plain": [
       "(2, 83823)"
      ]
     },
     "execution_count": 122,
     "metadata": {},
     "output_type": "execute_result"
    }
   ],
   "source": [
    "k_t.shape"
   ]
  },
  {
   "cell_type": "code",
   "execution_count": 123,
   "id": "d6eada80-705b-487e-aeb3-6113fbb23356",
   "metadata": {},
   "outputs": [
    {
     "data": {
      "text/plain": [
       "(2,)"
      ]
     },
     "execution_count": 123,
     "metadata": {},
     "output_type": "execute_result"
    }
   ],
   "source": [
    "k_target.shape"
   ]
  },
  {
   "cell_type": "code",
   "execution_count": 144,
   "id": "5655abc6-ba24-448b-9435-7d8f80f19523",
   "metadata": {
    "tags": []
   },
   "outputs": [
    {
     "data": {
      "text/plain": [
       "5.386325"
      ]
     },
     "execution_count": 144,
     "metadata": {},
     "output_type": "execute_result"
    }
   ],
   "source": [
    "np.linalg.norm(Gram(kernel,np.array(xs))-S_target)"
   ]
  },
  {
   "cell_type": "code",
   "execution_count": 145,
   "id": "8b84c190-b32f-47b3-9d1c-495275568963",
   "metadata": {},
   "outputs": [
    {
     "data": {
      "text/plain": [
       "array([[ 0.00000000e+00,  0.00000000e+00],\n",
       "       [-5.81104916e-03,  9.99959970e-01],\n",
       "       [ 8.59885496e-01,  5.09605638e-01],\n",
       "       [ 8.62977222e-01, -4.62056784e-01],\n",
       "       [ 3.18270175e-02, -9.62229914e-01],\n",
       "       [-8.13171751e-01, -4.48025574e-01],\n",
       "       [-9.25758589e-01,  3.72377912e-01],\n",
       "       [-7.06200656e-01,  7.07021759e-01],\n",
       "       [ 1.13670273e-02,  1.43273126e-01],\n",
       "       [ 4.98622826e-01,  8.65326396e-01],\n",
       "       [ 9.97553254e-01,  2.16529236e-05],\n",
       "       [ 5.23141042e-01, -8.51571143e-01],\n",
       "       [-4.66191782e-01, -8.84627592e-01],\n",
       "       [-9.25609848e-01, -3.76500873e-01],\n",
       "       [-9.97203523e-01,  7.07442668e-02],\n",
       "       [-4.51129406e-01,  8.91798850e-01],\n",
       "       [ 1.89734935e-01,  9.81146239e-01],\n",
       "       [ 9.41826091e-01,  3.34742614e-01],\n",
       "       [ 7.70505584e-01, -6.37357850e-01]])"
      ]
     },
     "execution_count": 145,
     "metadata": {},
     "output_type": "execute_result"
    }
   ],
   "source": [
    "np.array(xs)"
   ]
  },
  {
   "cell_type": "code",
   "execution_count": 146,
   "id": "84521663-1b54-4845-bde9-20505eafb6f0",
   "metadata": {},
   "outputs": [
    {
     "data": {
      "text/plain": [
       "[<matplotlib.lines.Line2D at 0x7f8b5ecd8850>]"
      ]
     },
     "execution_count": 146,
     "metadata": {},
     "output_type": "execute_result"
    },
    {
     "data": {
      "image/png": "[encoded data removed]",
      "text/plain": [
       "<Figure size 432x288 with 1 Axes>"
      ]
     },
     "metadata": {
      "needs_background": "light"
     },
     "output_type": "display_data"
    }
   ],
   "source": [
    "xs = np.array(xs)\n",
    "plt.plot(xs[:,0],xs[:,1])"
   ]
  },
  {
   "cell_type": "code",
   "execution_count": 147,
   "id": "cf4bf086-633b-4f9b-bf72-b09507fe7b94",
   "metadata": {},
   "outputs": [
    {
     "data": {
      "text/plain": [
       "DeviceArray(24.473446, dtype=float32)"
      ]
     },
     "execution_count": 147,
     "metadata": {},
     "output_type": "execute_result"
    }
   ],
   "source": [
    "x_objective(xs)"
   ]
  },
  {
   "cell_type": "code",
   "execution_count": 149,
   "id": "12c02599-4a6d-4511-a8a8-d8c7ab916b3f",
   "metadata": {},
   "outputs": [],
   "source": [
    "from Algorithms import incremental_greedy\n",
    "greedy = incremental_greedy(kernel,x0,step_size,ref,search_region_radius,T,var_0,c)"
   ]
  },
  {
   "cell_type": "code",
   "execution_count": 150,
   "id": "a9f455f3-609e-4daf-b98c-0db98796d4d4",
   "metadata": {},
   "outputs": [
    {
     "data": {
      "text/plain": [
       "DeviceArray(27.517815, dtype=float32)"
      ]
     },
     "execution_count": 150,
     "metadata": {},
     "output_type": "execute_result"
    }
   ],
   "source": [
    "x_objective(greedy)"
   ]
  },
  {
   "cell_type": "code",
   "execution_count": 151,
   "id": "968d9cec-b61d-4305-a053-00d1f9e373b4",
   "metadata": {},
   "outputs": [
    {
     "data": {
      "text/plain": [
       "DeviceArray([[1.        , 0.36788914, 0.36860484, 0.37370336, 0.36871442,\n",
       "              0.36802685, 0.36820853, 0.3679183 , 0.730579  , 0.3680269 ,\n",
       "              0.75894946, 0.3715569 , 0.7064949 , 0.36811358, 0.7322672 ,\n",
       "              0.3684284 , 0.68448293, 0.36811787, 0.70093924],\n",
       "             [0.36788914, 1.        , 0.37040672, 0.05112127, 0.01840004,\n",
       "              0.04956082, 0.36305362, 0.7579133 , 0.7274078 , 0.13446093,\n",
       "              0.14247999, 0.02248473, 0.26425064, 0.1344296 , 0.09602817,\n",
       "              0.02419863, 0.32902825, 0.75135124, 0.7106583 ],\n",
       "             [0.36860484, 0.37040672, 1.        , 0.37002492, 0.05008275,\n",
       "              0.01840269, 0.04961499, 0.13405427, 0.6923058 , 0.75994974,\n",
       "              0.400373  , 0.02681878, 0.09489482, 0.02405305, 0.1111746 ,\n",
       "              0.13698381, 0.8147834 , 0.7812391 , 0.25013196],\n",
       "             [0.37370336, 0.05112127, 0.37002492, 1.        , 0.37214553,\n",
       "              0.05112601, 0.01893574, 0.02447931, 0.25962794, 0.7704245 ,\n",
       "              0.7916676 , 0.16490947, 0.09502001, 0.02473678, 0.31571972,\n",
       "              0.7712859 , 0.63005877, 0.14296183, 0.09249021],\n",
       "             [0.36871442, 0.01840004, 0.05008275, 0.37214553, 1.        ,\n",
       "              0.36828774, 0.05043627, 0.0241965 , 0.09980424, 0.13749398,\n",
       "              0.549346  , 0.82898843, 0.25527918, 0.13588001, 0.7555493 ,\n",
       "              0.76182586, 0.1939381 , 0.02459097, 0.09370227],\n",
       "             [0.36802685, 0.04956082, 0.01840269, 0.05112601, 0.36828774,\n",
       "              1.        , 0.37123108, 0.13708732, 0.10453323, 0.02413568,\n",
       "              0.1950365 , 0.69890827, 0.7142677 , 0.7655783 , 0.6545831 ,\n",
       "              0.13432106, 0.07792229, 0.02350673, 0.2665877 ],\n",
       "             [0.36820853, 0.36305362, 0.04961499, 0.01893574, 0.05043627,\n",
       "              0.37123108, 1.        , 0.7660482 , 0.2810191 , 0.02373402,\n",
       "              0.09946281, 0.11647587, 0.7309621 , 0.76829827, 0.2350672 ,\n",
       "              0.02405435, 0.1011084 , 0.12877645, 0.7340636 ],\n",
       "             [0.3679183 , 0.7579133 , 0.13405427, 0.02447931, 0.0241965 ,\n",
       "              0.13708732, 0.7660482 , 1.        , 0.48803324, 0.04875034,\n",
       "              0.10384047, 0.04420507, 0.47980562, 0.37152678, 0.13763711,\n",
       "              0.01837427, 0.17219664, 0.35112137, 0.8492799 ],\n",
       "             [0.730579  , 0.7274078 , 0.6923058 , 0.25962794, 0.09980424,\n",
       "              0.10453323, 0.2810191 , 0.48803324, 1.        , 0.44803485,\n",
       "              0.4880794 , 0.08910228, 0.384365  , 0.16025874, 0.28683895,\n",
       "              0.14810327, 0.7781467 , 0.82250094, 0.72188973],\n",
       "             [0.3680269 , 0.13446093, 0.75994974, 0.7704245 , 0.13749398,\n",
       "              0.02413568, 0.02373402, 0.04875034, 0.44803485, 1.        ,\n",
       "              0.62711513, 0.05952295, 0.08000904, 0.0183546 , 0.17647251,\n",
       "              0.37539014, 0.8370675 , 0.37726027, 0.1372836 ],\n",
       "             [0.75894946, 0.14247999, 0.400373  , 0.7916676 , 0.549346  ,\n",
       "              0.1950365 , 0.09946281, 0.10384047, 0.4880794 , 0.62711513,\n",
       "              1.        , 0.36907008, 0.3314609 , 0.12504561, 0.6618841 ,\n",
       "              0.7510007 , 0.77098477, 0.23786989, 0.29369646],\n",
       "             [0.3715569 , 0.02248473, 0.02681878, 0.16490947, 0.82898843,\n",
       "              0.69890827, 0.11647587, 0.04420507, 0.08910228, 0.05952295,\n",
       "              0.36907008, 1.        , 0.42382103, 0.3182613 , 0.8254884 ,\n",
       "              0.42402065, 0.12072424, 0.01892081, 0.1356967 ],\n",
       "             [0.7064949 , 0.26425064, 0.09489482, 0.09502001, 0.25527918,\n",
       "              0.7142677 , 0.7309621 , 0.47980562, 0.384365  , 0.08000904,\n",
       "              0.3314609 , 0.42382103, 1.        , 0.84494495, 0.65974426,\n",
       "              0.14128092, 0.23864914, 0.14372906, 0.7228143 ],\n",
       "             [0.36811358, 0.1344296 , 0.02405305, 0.02473678, 0.13588001,\n",
       "              0.7655783 , 0.76829827, 0.37152678, 0.16025874, 0.0183546 ,\n",
       "              0.12504561, 0.3182613 , 0.84494495, 1.        , 0.41466904,\n",
       "              0.04960003, 0.07569348, 0.04807638, 0.48131162],\n",
       "             [0.7322672 , 0.09602817, 0.1111746 , 0.31571972, 0.7555493 ,\n",
       "              0.6545831 , 0.2350672 , 0.13763711, 0.28683895, 0.17647251,\n",
       "              0.6618841 , 0.8254884 , 0.65974426, 0.41466904, 1.        ,\n",
       "              0.5285352 , 0.33780134, 0.08939441, 0.34789622],\n",
       "             [0.3684284 , 0.02419863, 0.13698381, 0.7712859 , 0.76182586,\n",
       "              0.13432106, 0.02405435, 0.01837427, 0.14810327, 0.37539014,\n",
       "              0.7510007 , 0.42402065, 0.14128092, 0.04960003, 0.5285352 ,\n",
       "              1.        , 0.36808163, 0.05221413, 0.07848556],\n",
       "             [0.68448293, 0.32902825, 0.8147834 , 0.63005877, 0.1939381 ,\n",
       "              0.07792229, 0.1011084 , 0.17219664, 0.7781467 , 0.8370675 ,\n",
       "              0.77098477, 0.12072424, 0.23864914, 0.07569348, 0.33780134,\n",
       "              0.36808163, 1.        , 0.5885402 , 0.37684205],\n",
       "             [0.36811787, 0.75135124, 0.7812391 , 0.14296183, 0.02459097,\n",
       "              0.02350673, 0.12877645, 0.35112137, 0.82250094, 0.37726027,\n",
       "              0.23786989, 0.01892081, 0.14372906, 0.04807638, 0.08939441,\n",
       "              0.05221413, 0.5885402 , 1.        , 0.44514266],\n",
       "             [0.70093924, 0.7106583 , 0.25013196, 0.09249021, 0.09370227,\n",
       "              0.2665877 , 0.7340636 , 0.8492799 , 0.72188973, 0.1372836 ,\n",
       "              0.29369646, 0.1356967 , 0.7228143 , 0.48131162, 0.34789622,\n",
       "              0.07848556, 0.37684205, 0.44514266, 1.        ]],            dtype=float32)"
      ]
     },
     "execution_count": 151,
     "metadata": {},
     "output_type": "execute_result"
    }
   ],
   "source": [
    "Gram(kernel,greedy)"
   ]
  },
  {
   "cell_type": "markdown",
   "id": "e9418cad-86ed-4980-a1e0-8c6b983d2e86",
   "metadata": {},
   "source": [
    "## Can we use the incremental greedy idea to build a set of $x_{1:T}$ the imitates the optimal $\\Sigma$ value as above?\n",
    "\n",
    "We can, but the resulting objective is not as good as incremental greedy."
   ]
  },
  {
   "cell_type": "code",
   "execution_count": 152,
   "id": "7ca33707-b6df-42e3-8064-d58a19b3123d",
   "metadata": {},
   "outputs": [
    {
     "data": {
      "text/plain": [
       "array([[1.00001807, 0.36787963, 0.36422426, 0.36347305, 0.36327144,\n",
       "        0.36321732, 0.3632028 , 0.3631989 , 0.36319785, 0.36319757,\n",
       "        0.36319749, 0.36319747, 0.36319747, 0.36319746, 0.36319746,\n",
       "        0.36319745, 0.36319741, 0.36320855, 0.36321918],\n",
       "       [0.36787963, 1.00000044, 0.36787963, 0.1958068 , 0.14962952,\n",
       "        0.13723563, 0.1339086 , 0.13301533, 0.13277546, 0.13271104,\n",
       "        0.13269373, 0.13268907, 0.13268782, 0.13268746, 0.13268727,\n",
       "        0.13268688, 0.13268552, 0.1326846 , 0.13268166],\n",
       "       [0.36422426, 0.36787963, 1.00000044, 0.36787963, 0.19558403,\n",
       "        0.14934681, 0.13693672, 0.1336053 , 0.13271084, 0.13247065,\n",
       "        0.13240613, 0.1323888 , 0.13238414, 0.13238285, 0.1323824 ,\n",
       "        0.13238188, 0.13238025, 0.13237838, 0.13237415],\n",
       "       [0.36347305, 0.1958068 , 0.36787963, 1.00000044, 0.36787963,\n",
       "        0.19558519, 0.14934833, 0.13693832, 0.13360693, 0.13271248,\n",
       "        0.13247228, 0.13240777, 0.13239043, 0.13238574, 0.13238436,\n",
       "        0.13238358, 0.13238181, 0.13237968, 0.1323751 ],\n",
       "       [0.36327144, 0.14962952, 0.19558403, 0.36787963, 1.00000044,\n",
       "        0.36787963, 0.19558549, 0.14934873, 0.13693875, 0.13360736,\n",
       "        0.13271291, 0.13247272, 0.13240819, 0.13239083, 0.13238605,\n",
       "        0.13238434, 0.13238231, 0.13238005, 0.13237535],\n",
       "       [0.36321732, 0.13723563, 0.14934681, 0.19558519, 0.36787963,\n",
       "        1.00000044, 0.36787963, 0.19558557, 0.14934883, 0.13693886,\n",
       "        0.13360747, 0.13271303, 0.13247282, 0.13240828, 0.13239082,\n",
       "        0.13238571, 0.13238276, 0.13238023, 0.13237542],\n",
       "       [0.3632028 , 0.1339086 , 0.13693672, 0.14934833, 0.19558549,\n",
       "        0.36787963, 1.00000044, 0.36787963, 0.19558559, 0.14934886,\n",
       "        0.13693889, 0.1336075 , 0.13271305, 0.13247282, 0.13240818,\n",
       "        0.1323904 , 0.13238404, 0.13238059, 0.13237544],\n",
       "       [0.3631989 , 0.13301533, 0.1336053 , 0.13693832, 0.14934873,\n",
       "        0.19558557, 0.36787963, 1.00000044, 0.36787963, 0.19558559,\n",
       "        0.14934887, 0.13693889, 0.1336075 , 0.13271302, 0.1324727 ,\n",
       "        0.13240773, 0.1323887 , 0.13238184, 0.13237544],\n",
       "       [0.36319785, 0.13277546, 0.13271084, 0.13360693, 0.13693875,\n",
       "        0.14934883, 0.19558559, 0.36787963, 1.00000044, 0.36787963,\n",
       "        0.19558559, 0.14934887, 0.13693889, 0.13360747, 0.1327129 ,\n",
       "        0.13247225, 0.13240603, 0.1323865 , 0.13237544],\n",
       "       [0.36319757, 0.13271104, 0.13247065, 0.13271248, 0.13360736,\n",
       "        0.13693886, 0.14934886, 0.19558559, 0.36787963, 1.00000044,\n",
       "        0.36787963, 0.19558559, 0.14934886, 0.13693885, 0.13360734,\n",
       "        0.13271244, 0.13247055, 0.13240383, 0.13237544],\n",
       "       [0.36319749, 0.13269373, 0.13240613, 0.13247228, 0.13271291,\n",
       "        0.13360747, 0.13693889, 0.14934887, 0.19558559, 0.36787963,\n",
       "        1.00000044, 0.36787963, 0.19558558, 0.14934883, 0.13693873,\n",
       "        0.13360689, 0.13271074, 0.13246834, 0.13237544],\n",
       "       [0.36319747, 0.13268907, 0.1323888 , 0.13240777, 0.13247272,\n",
       "        0.13271303, 0.1336075 , 0.13693889, 0.14934887, 0.19558559,\n",
       "        0.36787963, 1.00000044, 0.36787963, 0.19558556, 0.14934871,\n",
       "        0.13693828, 0.13360519, 0.13270852, 0.13237544],\n",
       "       [0.36319747, 0.13268782, 0.13238414, 0.13239043, 0.13240819,\n",
       "        0.13247282, 0.13271305, 0.1336075 , 0.13693889, 0.14934886,\n",
       "        0.19558558, 0.36787963, 1.00000044, 0.36787963, 0.19558548,\n",
       "        0.14934829, 0.13693661, 0.13360295, 0.13237543],\n",
       "       [0.36319746, 0.13268746, 0.13238285, 0.13238574, 0.13239083,\n",
       "        0.13240828, 0.13247282, 0.13271302, 0.13360747, 0.13693885,\n",
       "        0.14934883, 0.19558556, 0.36787963, 1.00000044, 0.36787963,\n",
       "        0.19558516, 0.14934672, 0.13693433, 0.13237541],\n",
       "       [0.36319746, 0.13268727, 0.1323824 , 0.13238436, 0.13238605,\n",
       "        0.13239082, 0.13240818, 0.1324727 , 0.1327129 , 0.13360734,\n",
       "        0.13693873, 0.14934871, 0.19558548, 0.36787963, 1.00000044,\n",
       "        0.36787963, 0.19558396, 0.14934441, 0.13237534],\n",
       "       [0.36319745, 0.13268688, 0.13238188, 0.13238358, 0.13238434,\n",
       "        0.13238571, 0.1323904 , 0.13240773, 0.13247225, 0.13271244,\n",
       "        0.13360689, 0.13693828, 0.14934829, 0.19558516, 0.36787963,\n",
       "        1.00000044, 0.36787963, 0.19558202, 0.13237509],\n",
       "       [0.36319741, 0.13268552, 0.13238025, 0.13238181, 0.13238231,\n",
       "        0.13238276, 0.13238404, 0.1323887 , 0.13240603, 0.13247055,\n",
       "        0.13271074, 0.13360519, 0.13693661, 0.14934672, 0.19558396,\n",
       "        0.36787963, 1.00000044, 0.36787963, 0.13237414],\n",
       "       [0.36320855, 0.1326846 , 0.13237838, 0.13237968, 0.13238005,\n",
       "        0.13238023, 0.13238059, 0.13238184, 0.1323865 , 0.13240383,\n",
       "        0.13246834, 0.13270852, 0.13360295, 0.13693433, 0.14934441,\n",
       "        0.19558202, 0.36787963, 1.00000044, 0.13237472],\n",
       "       [0.36321918, 0.13268166, 0.13237415, 0.1323751 , 0.13237535,\n",
       "        0.13237542, 0.13237544, 0.13237544, 0.13237544, 0.13237544,\n",
       "        0.13237544, 0.13237544, 0.13237543, 0.13237541, 0.13237534,\n",
       "        0.13237509, 0.13237414, 0.13237472, 1.00000044]])"
      ]
     },
     "execution_count": 152,
     "metadata": {},
     "output_type": "execute_result"
    }
   ],
   "source": [
    "S_target"
   ]
  },
  {
   "cell_type": "code",
   "execution_count": 153,
   "id": "c0d536b5-0d1a-40ed-9564-69301b0be217",
   "metadata": {},
   "outputs": [
    {
     "data": {
      "text/plain": [
       "DeviceArray([[1.        , 0.3678965 , 0.36821032, 0.3835727 , 0.39577895,\n",
       "              0.42232707, 0.36946684, 0.36839515, 0.9795555 , 0.3688318 ,\n",
       "              0.3696819 , 0.36830276, 0.367916  , 0.3684293 , 0.368093  ,\n",
       "              0.36831272, 0.3683774 , 0.36821476, 0.36791486],\n",
       "             [0.3678965 , 1.        , 0.37162206, 0.05544932, 0.02124559,\n",
       "              0.06402423, 0.28933716, 0.56194097, 0.4798856 , 0.76141274,\n",
       "              0.13444275, 0.02452756, 0.02319959, 0.06452684, 0.15781987,\n",
       "              0.81057835, 0.962143  , 0.26170686, 0.03749764],\n",
       "             [0.36821032, 0.37162206, 1.        , 0.38901502, 0.05772988,\n",
       "              0.02432678, 0.04046346, 0.08277749, 0.42563075, 0.77333105,\n",
       "              0.7568212 , 0.13998795, 0.02466508, 0.01881354, 0.02621616,\n",
       "              0.15492226, 0.51096594, 0.9633954 , 0.26619822],\n",
       "             [0.3835727 , 0.05544932, 0.38901502, 1.        , 0.39024368,\n",
       "              0.06022471, 0.02032594, 0.02172995, 0.33565742, 0.15036343,\n",
       "              0.7932418 , 0.7655122 , 0.14295058, 0.04050362, 0.02365575,\n",
       "              0.02844448, 0.07917538, 0.5267093 , 0.96148   ],\n",
       "             [0.39577895, 0.02124559, 0.05772988, 0.39024368, 1.        ,\n",
       "              0.37590116, 0.06733008, 0.03575426, 0.29447663, 0.02849975,\n",
       "              0.15589769, 0.7759751 , 0.775657  , 0.283721  , 0.11932083,\n",
       "              0.02545942, 0.02233398, 0.08124906, 0.521426  ],\n",
       "             [0.42232707, 0.06402423, 0.02432678, 0.06022471, 0.37590116,\n",
       "              1.        , 0.5037185 , 0.26038942, 0.35718608, 0.03188249,\n",
       "              0.03082371, 0.14247614, 0.73270184, 0.9823986 , 0.7386066 ,\n",
       "              0.1457002 , 0.04743695, 0.02490358, 0.07856093],\n",
       "             [0.36946684, 0.28933716, 0.04046346, 0.02032594, 0.06733008,\n",
       "              0.5037185 , 1.        , 0.85198003, 0.3942802 , 0.10312013,\n",
       "              0.02154142, 0.02739591, 0.16674918, 0.5707412 , 0.9083848 ,\n",
       "              0.60952765, 0.19890563, 0.03052256, 0.0203052 ],\n",
       "             [0.36839515, 0.56194097, 0.08277749, 0.02172995, 0.03575426,\n",
       "              0.26038942, 0.85198003, 1.        , 0.4348666 , 0.22839929,\n",
       "              0.03328573, 0.01943863, 0.07494868, 0.29459262, 0.61291337,\n",
       "              0.90555805, 0.4156778 , 0.05757979, 0.01853642],\n",
       "             [0.9795555 , 0.4798856 , 0.42563075, 0.33565742, 0.29447663,\n",
       "              0.35718608, 0.3942802 , 0.4348666 , 1.        , 0.46823773,\n",
       "              0.37043247, 0.28603885, 0.27674958, 0.3172419 , 0.35970357,\n",
       "              0.46107543, 0.4800589 , 0.4055891 , 0.30553955],\n",
       "             [0.3688318 , 0.76141274, 0.77333105, 0.15036343, 0.02849975,\n",
       "              0.03188249, 0.10312013, 0.22839929, 0.46823773, 1.        ,\n",
       "              0.36873245, 0.05242676, 0.0184405 , 0.0281397 , 0.05676375,\n",
       "              0.40546125, 0.89688647, 0.62005424, 0.0971033 ],\n",
       "             [0.3696819 , 0.13444275, 0.7568212 , 0.7932418 , 0.15589769,\n",
       "              0.03082371, 0.02154142, 0.03328573, 0.37043247, 0.36873245,\n",
       "              1.        , 0.3866338 , 0.05365644, 0.02148661, 0.01860999,\n",
       "              0.05535723, 0.19885567, 0.8912381 , 0.6326719 ],\n",
       "             [0.36830276, 0.02452756, 0.13998795, 0.7655122 , 0.7759751 ,\n",
       "              0.14247614, 0.02739591, 0.01943863, 0.28603885, 0.05242676,\n",
       "              0.3866338 , 1.        , 0.3753591 , 0.09782542, 0.04233616,\n",
       "              0.01852671, 0.03111664, 0.20543255, 0.8984569 ],\n",
       "             [0.367916  , 0.02319959, 0.02466508, 0.14295058, 0.775657  ,\n",
       "              0.73270184, 0.16674918, 0.07494868, 0.27674958, 0.0184405 ,\n",
       "              0.05365644, 0.3753591 , 1.        , 0.62546635, 0.30279204,\n",
       "              0.04259928, 0.02001344, 0.03113638, 0.20381095],\n",
       "             [0.3684293 , 0.06452684, 0.01881354, 0.04050362, 0.283721  ,\n",
       "              0.9823986 , 0.5707412 , 0.29459262, 0.3172419 , 0.0281397 ,\n",
       "              0.02148661, 0.09782542, 0.62546635, 1.        , 0.81452197,\n",
       "              0.15981859, 0.04562958, 0.0184409 , 0.05260975],\n",
       "             [0.368093  , 0.15781987, 0.02621616, 0.02365575, 0.11932083,\n",
       "              0.7386066 , 0.9083848 , 0.61291337, 0.35970357, 0.05676375,\n",
       "              0.01860999, 0.04233616, 0.30279204, 0.81452197, 1.        ,\n",
       "              0.37820172, 0.10670845, 0.0217198 , 0.02661703],\n",
       "             [0.36831272, 0.81057835, 0.15492226, 0.02844448, 0.02545942,\n",
       "              0.1457002 , 0.60952765, 0.90555805, 0.46107543, 0.40546125,\n",
       "              0.05535723, 0.01852671, 0.04259928, 0.15981859, 0.37820172,\n",
       "              1.        , 0.6579081 , 0.1053321 , 0.02169416],\n",
       "             [0.3683774 , 0.962143  , 0.51096594, 0.07917538, 0.02233398,\n",
       "              0.04743695, 0.19890563, 0.4156778 , 0.4800589 , 0.89688647,\n",
       "              0.19885567, 0.03111664, 0.02001344, 0.04562958, 0.10670845,\n",
       "              0.6579081 , 1.        , 0.3740078 , 0.05198241],\n",
       "             [0.36821476, 0.26170686, 0.9633954 , 0.5267093 , 0.08124906,\n",
       "              0.02490358, 0.03052256, 0.05757979, 0.4055891 , 0.62005424,\n",
       "              0.8912381 , 0.20543255, 0.03113638, 0.0184409 , 0.0217198 ,\n",
       "              0.1053321 , 0.3740078 , 1.        , 0.37744516],\n",
       "             [0.36791486, 0.03749764, 0.26619822, 0.96148   , 0.521426  ,\n",
       "              0.07856093, 0.0203052 , 0.01853642, 0.30553955, 0.0971033 ,\n",
       "              0.6326719 , 0.8984569 , 0.20381095, 0.05260975, 0.02661703,\n",
       "              0.02169416, 0.05198241, 0.37744516, 1.        ]],            dtype=float32)"
      ]
     },
     "execution_count": 153,
     "metadata": {},
     "output_type": "execute_result"
    }
   ],
   "source": [
    "Gram(kernel,xs)"
   ]
  }
 ],
 "metadata": {
  "kernelspec": {
   "display_name": "Python 3 (ipykernel)",
   "language": "python",
   "name": "python3"
  },
  "language_info": {
   "codemirror_mode": {
    "name": "ipython",
    "version": 3
   },
   "file_extension": ".py",
   "mimetype": "text/x-python",
   "name": "python",
   "nbconvert_exporter": "python",
   "pygments_lexer": "ipython3",
   "version": "3.9.5"
  }
 },
 "nbformat": 4,
 "nbformat_minor": 5
}
