{
 "cells": [
  {
   "cell_type": "code",
   "execution_count": 1,
   "id": "1df056ac-7a82-4188-b9e6-0d3e223b088c",
   "metadata": {},
   "outputs": [],
   "source": [
    "from scipy.optimize import minimize\n",
    "from scipy.optimize import differential_evolution\n",
    "from scipy.optimize import shgo\n",
    "from scipy.optimize import NonlinearConstraint as NLC\n",
    "from scipy.optimize import LinearConstraint as LC\n",
    "\n",
    "import numpy as np\n",
    "    \n",
    "import matplotlib.pyplot as plt\n",
    "import labellines as ll\n",
    "\n",
    "from functools import partial\n",
    "\n",
    "import cvxpy as cp\n",
    "\n",
    "from RKHS import Gram"
   ]
  },
  {
   "cell_type": "code",
   "execution_count": 2,
   "id": "84322280-dfa8-4fae-95f1-dd034043fde2",
   "metadata": {},
   "outputs": [],
   "source": [
    "# The differentiable kernel function with parameters c,l not filled.\n",
    "def k(x1,x2,c,l):\n",
    "    small_sig = 1e-10 # This is needed for numerical stability.\n",
    "    return c * np.exp(-(np.linalg.norm(x1-x2+small_sig,axis = -1)**2) / l)\n",
    "\n",
    "def GPMI(x,c,l,var_0):# The mutual information for a GP.\n",
    "    x = x.reshape(-1,2)\n",
    "    KA = k(x[:,np.newaxis,:],x,c,l)\n",
    "    if var_0>0:\n",
    "        return 1/2*np.log(np.linalg.det(np.eye(len(KA))+KA/var_0))\n",
    "    else:\n",
    "        return 1/2*np.log(np.linalg.det(KA))"
   ]
  },
  {
   "cell_type": "code",
   "execution_count": 20,
   "id": "46403b37-c1a7-4ade-bfd0-26d45cd171c7",
   "metadata": {
    "tags": []
   },
   "outputs": [],
   "source": [
    "def rand_search(x0,R,objective,T):\n",
    "    best_xs = []\n",
    "    best_val = -np.inf\n",
    "    \n",
    "    for _ in range(50000):\n",
    "\n",
    "        xs = [x0]\n",
    "        for i in range(T-1):\n",
    "\n",
    "            cand_x = 0\n",
    "            while True:\n",
    "                r = step_size\n",
    "\n",
    "                theta = np.random.rand()*2*np.pi\n",
    "\n",
    "                cand_x = xs[-1]+r*np.array([np.cos(theta),np.sin(theta)])\n",
    "\n",
    "                if np.linalg.norm(cand_x-x0)<=R:\n",
    "                    break\n",
    "\n",
    "            xs.append(cand_x)\n",
    "\n",
    "        xs = np.array(xs)\n",
    "        val = objective(xs)\n",
    "\n",
    "        if val>best_val:\n",
    "            best_xs = xs\n",
    "            best_val=val\n",
    "            \n",
    "    return best_xs,best_val"
   ]
  },
  {
   "cell_type": "code",
   "execution_count": 21,
   "id": "e9d48b1c-066e-4e0b-a4e1-65ccceb305b4",
   "metadata": {},
   "outputs": [],
   "source": [
    "def h(r,c,l):\n",
    "    return c * np.exp(-(r**2) / l**2)"
   ]
  },
  {
   "cell_type": "code",
   "execution_count": 22,
   "id": "4a235e04-c298-4341-949a-3eb77016f2c1",
   "metadata": {},
   "outputs": [],
   "source": [
    "\n",
    "T = 7\n",
    "\n",
    "c = 1\n",
    "l = 1\n",
    "var_0 = 0.01\n",
    "objective = lambda z: GPMI(z,c=c,l=l,var_0=var_0)\n",
    "\n",
    "\n",
    "search_region_center = np.array([0,0])\n",
    "step_size = 1"
   ]
  },
  {
   "cell_type": "code",
   "execution_count": 23,
   "id": "acfe51c7-9773-4d4e-94f8-5769b673dc66",
   "metadata": {},
   "outputs": [],
   "source": [
    "kernel = partial(k,c=c,l=l)"
   ]
  },
  {
   "cell_type": "markdown",
   "id": "a444cffd-e6e7-4626-adf0-e1758d5a8390",
   "metadata": {},
   "source": [
    "# Random search I\n",
    "\n",
    "**No** bounded search region constraint.\n",
    "\n",
    "Fix $||x_t-x_{t-1}||=D$, and search using random direction.\n",
    "\n",
    "$$\n",
    "    x_t\\gets x_{t-1} + D * \\text{ random unit vector}\n",
    "$$\n"
   ]
  },
  {
   "cell_type": "code",
   "execution_count": 24,
   "id": "6278c270-6a9f-435d-84bd-a0b8794f9834",
   "metadata": {},
   "outputs": [],
   "source": [
    "rand,_ = rand_search(search_region_center,\\\n",
    "                         np.inf,objective,T)"
   ]
  },
  {
   "cell_type": "code",
   "execution_count": 25,
   "id": "e6f3b912-0747-4739-9949-01c9a97611d9",
   "metadata": {},
   "outputs": [],
   "source": [
    "sols = {'Random Search': rand,\n",
    "        'Straight Line': np.array([np.arange(T)*step_size,np.zeros(T)]).T*step_size\n",
    "       }\n"
   ]
  },
  {
   "cell_type": "markdown",
   "id": "99ba26b2-f298-4575-8c53-c542ed6d4b65",
   "metadata": {},
   "source": [
    "# Solve for the upper bound\n",
    "\n",
    "\n",
    "$$\n",
    "    \\max_S \\log(\\det(I+\\sigma^{-2}S))\\\\\n",
    "    S_{ii}=c\\\\\n",
    "    S_{i,i+1}=S_{i+1,i}\\geq d\\\\\n",
    "    S\\succeq 0\\\\\n",
    "    (\\text{Without admissibility constraints})\n",
    "$$"
   ]
  },
  {
   "cell_type": "code",
   "execution_count": 26,
   "id": "807d2b7d-8983-4d8d-9062-268838c56119",
   "metadata": {},
   "outputs": [],
   "source": [
    "n = T\n",
    "c = 1\n",
    "var = var_0\n",
    "\n",
    "\n",
    "d = h(step_size,c=c,l=l)\n",
    "\n",
    "I = np.eye(n)\n",
    "\n",
    "S = cp.Variable((n,n),symmetric=True)\n",
    "\n",
    "constraints = [cp.diag(S)==c]\n",
    "\n",
    "constraints+=[S[i,i+1]>=d for i in range(0,n-1)]\n",
    "\n",
    "constraints+=[S>>0]\n",
    "\n",
    "prob = cp.Problem(cp.Maximize(1/2*cp.log_det(I+ S/var)),constraints)\n",
    "\n",
    "upper_bound = prob.solve()"
   ]
  },
  {
   "cell_type": "markdown",
   "id": "53d94fb8-2964-45b4-88fe-3cf7462ea7a7",
   "metadata": {},
   "source": [
    "# Compare the random search value and the upper bound"
   ]
  },
  {
   "cell_type": "code",
   "execution_count": 27,
   "id": "4db805cb-446a-4723-ac02-ba2a0ef1d383",
   "metadata": {},
   "outputs": [
    {
     "data": {
      "text/plain": [
       "15.725918264309918"
      ]
     },
     "execution_count": 27,
     "metadata": {},
     "output_type": "execute_result"
    }
   ],
   "source": [
    "upper_bound"
   ]
  },
  {
   "cell_type": "code",
   "execution_count": 28,
   "id": "c487d974-9199-4ad2-903d-3534437567d8",
   "metadata": {},
   "outputs": [
    {
     "data": {
      "text/plain": [
       "1.5714464697960821e+01"
      ]
     },
     "execution_count": 28,
     "metadata": {},
     "output_type": "execute_result"
    }
   ],
   "source": [
    "objective(sols['Random Search']) # Mutual information achieved by the random search"
   ]
  },
  {
   "cell_type": "code",
   "execution_count": 29,
   "id": "2f9995c4-cd3f-410d-8f02-9243e6655a30",
   "metadata": {},
   "outputs": [
    {
     "data": {
      "text/plain": [
       "1.1453566349096889e-02"
      ]
     },
     "execution_count": 29,
     "metadata": {},
     "output_type": "execute_result"
    }
   ],
   "source": [
    "upper_bound-(objective(sols['Random Search'])) "
   ]
  },
  {
   "cell_type": "code",
   "execution_count": 30,
   "id": "20b91002-8998-46b5-b16e-27fd7e7c3633",
   "metadata": {},
   "outputs": [
    {
     "data": {
      "text/plain": [
       "7.283241688398469e-04"
      ]
     },
     "execution_count": 30,
     "metadata": {},
     "output_type": "execute_result"
    }
   ],
   "source": [
    "(upper_bound-(objective(sols['Random Search'])))/np.abs(upper_bound) # The 'competitive ratio'"
   ]
  },
  {
   "cell_type": "code",
   "execution_count": 31,
   "id": "4a3c973d-c507-439f-ba32-f4ef307a9884",
   "metadata": {},
   "outputs": [
    {
     "data": {
      "text/plain": [
       "array([[0.9999994 , 0.36787981, 0.13401489, 0.0488275 , 0.01776215,\n",
       "        0.00641178, 0.00228413],\n",
       "       [0.36787981, 1.00000013, 0.36787983, 0.13400823, 0.04881001,\n",
       "        0.01775389, 0.00643907],\n",
       "       [0.13401489, 0.36787983, 0.99999992, 0.36787979, 0.13401547,\n",
       "        0.04884005, 0.01780577],\n",
       "       [0.0488275 , 0.13400823, 0.36787979, 0.99999997, 0.36787977,\n",
       "        0.13403017, 0.04885486],\n",
       "       [0.01776215, 0.04881001, 0.13401547, 0.36787977, 0.99999931,\n",
       "        0.3678795 , 0.13401632],\n",
       "       [0.00641178, 0.01775389, 0.04884005, 0.13403017, 0.3678795 ,\n",
       "        1.0000003 , 0.3678793 ],\n",
       "       [0.00228413, 0.00643907, 0.01780577, 0.04885486, 0.13401632,\n",
       "        0.3678793 , 1.0000003 ]])"
      ]
     },
     "execution_count": 31,
     "metadata": {},
     "output_type": "execute_result"
    }
   ],
   "source": [
    "S.value"
   ]
  },
  {
   "cell_type": "code",
   "execution_count": 32,
   "id": "90a95d4e-9aa7-410e-a330-19a1ef6c4e08",
   "metadata": {},
   "outputs": [
    {
     "data": {
      "text/plain": [
       "array([[1.00000000e+00, 3.67879441e-01, 1.93899636e-01, 7.50634328e-03,\n",
       "        3.97492674e-04, 6.44498167e-07, 2.78917285e-08],\n",
       "       [3.67879441e-01, 1.00000000e+00, 3.67879441e-01, 9.13260744e-02,\n",
       "        3.21923421e-03, 2.29556848e-05, 3.04342449e-07],\n",
       "       [1.93899636e-01, 3.67879441e-01, 1.00000000e+00, 3.67879441e-01,\n",
       "        9.57633295e-02, 1.96270454e-03, 1.57263697e-04],\n",
       "       [7.50634329e-03, 9.13260744e-02, 3.67879441e-01, 1.00000000e+00,\n",
       "        3.67879441e-01, 4.90717645e-02, 2.37778787e-03],\n",
       "       [3.97492674e-04, 3.21923422e-03, 9.57633296e-02, 3.67879441e-01,\n",
       "        1.00000000e+00, 3.67879441e-01, 1.09971461e-01],\n",
       "       [6.44498168e-07, 2.29556848e-05, 1.96270454e-03, 4.90717646e-02,\n",
       "        3.67879441e-01, 1.00000000e+00, 3.67879441e-01],\n",
       "       [2.78917285e-08, 3.04342450e-07, 1.57263698e-04, 2.37778788e-03,\n",
       "        1.09971461e-01, 3.67879441e-01, 1.00000000e+00]])"
      ]
     },
     "execution_count": 32,
     "metadata": {},
     "output_type": "execute_result"
    }
   ],
   "source": [
    "Gram(kernel,sols['Random Search'])"
   ]
  },
  {
   "cell_type": "code",
   "execution_count": 117,
   "id": "e595ac8e-71e5-4b19-8b62-053bce0f9279",
   "metadata": {},
   "outputs": [
    {
     "data": {
      "text/plain": [
       "array([[-6.01916709e-07,  3.67277513e-07,  4.66158701e-02,\n",
       "         4.45789321e-02,  1.76539640e-02,  6.41076525e-03,\n",
       "         2.28412708e-03],\n",
       "       [ 3.67484168e-07,  1.29211274e-07,  3.86938520e-07,\n",
       "         6.55941163e-03,  4.33314301e-02,  1.74064020e-02,\n",
       "         6.43845421e-03],\n",
       "       [ 4.66158702e-02,  3.87007626e-07, -8.19363816e-08,\n",
       "         3.49895094e-07,  1.73969063e-02,  4.25333471e-02,\n",
       "         1.77403724e-02],\n",
       "       [ 4.45789321e-02,  6.55941172e-03,  3.50093375e-07,\n",
       "        -2.57991901e-08,  3.29528353e-07, -1.12130721e-02,\n",
       "         4.48562830e-02],\n",
       "       [ 1.76539640e-02,  4.33314301e-02,  1.73969064e-02,\n",
       "         3.29606116e-07, -6.92985199e-07,  6.08856539e-08,\n",
       "         7.19259354e-02],\n",
       "       [ 6.41076525e-03,  1.74064020e-02,  4.25333471e-02,\n",
       "        -1.12130720e-02,  6.10758153e-08,  3.02156622e-07,\n",
       "        -1.44144992e-07],\n",
       "       [ 2.28412708e-03,  6.43845421e-03,  1.77403724e-02,\n",
       "         4.48562830e-02,  7.19259355e-02, -1.43993054e-07,\n",
       "         2.97277230e-07]])"
      ]
     },
     "execution_count": 117,
     "metadata": {},
     "output_type": "execute_result"
    }
   ],
   "source": [
    "S.value-Gram(kernel,sols['Random Search'])"
   ]
  },
  {
   "cell_type": "code",
   "execution_count": 33,
   "id": "d3cd9a5a-508c-4497-81cb-67b635f097a1",
   "metadata": {},
   "outputs": [
    {
     "data": {
      "image/png": "[encoded data removed]",
      "text/plain": [
       "<Figure size 1200x800 with 1 Axes>"
      ]
     },
     "metadata": {
      "needs_background": "light"
     },
     "output_type": "display_data"
    }
   ],
   "source": [
    "\n",
    "plt.rc('font',size=11)\n",
    "plt.figure(dpi=200)\n",
    "for key,val in sols.items():\n",
    "    plt.plot(val[:,0],val[:,1],marker = '.',markersize = 15,label=\"{}: MI={:.2f}\".format(key,objective(val)))\n",
    "    \n",
    "    plt.gca().set_aspect('equal')\n",
    "\n",
    "plt.text(0.,2.,'MI Upper bound: {:.2f}'.format(upper_bound))\n",
    "# circ = plt.Circle(search_region_center,search_region_radius,label='Search Region Boundary',fill=False)\n",
    "# plt.gca().add_patch(circ)\n",
    "# ll.labelLines(plt.gca().get_lines(),fontsize=12,zorder=3,yoffsets=1.5,align=False)\n",
    "plt.legend()\n",
    "plt.show()"
   ]
  },
  {
   "cell_type": "markdown",
   "id": "215f2ad0-376b-4370-a0af-1594297b043e",
   "metadata": {},
   "source": [
    "# Random search II\n",
    "\n",
    "Adding bounded search region constraint.\n",
    "\n",
    "Fix $||x_t-x_{t-1}||=D$, and search using random direction.\n",
    "\n",
    "$$\n",
    "    \\hat{x}_t\\gets x_{t-1} + D * \\text{ random unit vector}\n",
    "$$\n",
    "\n",
    "If $\\hat{x}_t$ is outside the search region, pick a new random unit vector and try again, until a feasible $\\hat{x}_t$ is found. Then set $x_t\\gets \\hat{x}_t$.\n"
   ]
  },
  {
   "cell_type": "code",
   "execution_count": 56,
   "id": "5dc87618-23f1-44cf-bf5a-7775ac8982f3",
   "metadata": {},
   "outputs": [],
   "source": [
    "search_region_radius = 1"
   ]
  },
  {
   "cell_type": "code",
   "execution_count": 57,
   "id": "b2513530-e603-4a79-8e10-a5b85b328a06",
   "metadata": {},
   "outputs": [],
   "source": [
    "rand,_ = rand_search(search_region_center,\\\n",
    "                         search_region_radius,objective,T)"
   ]
  },
  {
   "cell_type": "code",
   "execution_count": 58,
   "id": "db4b7394-8d97-4093-889e-bfcf59672360",
   "metadata": {},
   "outputs": [],
   "source": [
    "sols = {'Random Search': rand,\n",
    "        'Straight Line': np.array([np.arange(T)*step_size,np.zeros(T)]).T*step_size\n",
    "       }\n"
   ]
  },
  {
   "cell_type": "markdown",
   "id": "3a366607-74e8-4376-a7c7-31609bb92d23",
   "metadata": {},
   "source": [
    "# Solve for the upper bound under the bounded region constraint\n",
    "Given reference points $a_{1:N}$, inducing $A = [k(a_i,a_j)]$.\n",
    "\n",
    "The ultimate problem we attempt to solve is,\n",
    "\n",
    "$$\n",
    "\t\t\\max_{x_1,x_2,...,x_{T}} F(x_{1:T})\\\\\n",
    "        ~||x_{t+1}-x_t||\\leq D,~\\forall t=1,...,T-1\\\\\n",
    "\t\t~ ||x_t-a_k||\\leq R_{t,k},~\\forall 1\\leq t \\leq T,~1\\leq k\\leq N\n",
    "$$\n",
    "\n",
    "where $R_{t,k}$ are pre-specified distance bounds to the reference points. \n",
    "\n",
    "The convex relaxation of the above we consider hereafter is\n",
    "$$\n",
    "    \\max_{\\Sigma,B}~\\log\\det(I+\\Sigma/\\sigma^2)\\\\\n",
    "\t\ts.t.~M=\\begin{bmatrix}\n",
    "    \\Sigma & B\\\\\n",
    "B^\\top & A\n",
    "\\end{bmatrix}\\succ 0\\\\\n",
    "~\\Sigma_{ii}=c,\\forall i=1,2,...,T\\\\\n",
    "~\\Sigma_{i,i+1}\\geq d,\\forall i=1,...,T-1\\\\\n",
    "~B_{ik}\\geq b_{ik}=h(R_{i,k}),\\forall i,k\\\\\n",
    "(\\text{Without admissibility constraints})\n",
    "$$\n",
    "\n",
    "Very often we want to impose the constraint that the initial location $x_1$ is fixed, this can be achieve by specifying the desired initial location as the value of $a_1$ and impose $||x_1-a_1||\\leq 0$, or $b_{11} = h(0)$.\n",
    "\n",
    "The optimal value of the convex relaxation is an upper bound on the ultimate problem, which could be loose.\n"
   ]
  },
  {
   "cell_type": "code",
   "execution_count": 59,
   "id": "62229860-1bf7-4044-b42c-33a98247e6b3",
   "metadata": {},
   "outputs": [],
   "source": [
    "ref = np.array([[0,0]]) # A single point reference set.\n",
    "R = np.array([[search_region_radius]])\n",
    "A = Gram(kernel,ref)\n",
    "\n",
    "N = len(A)\n",
    "\n",
    "\n",
    "b = np.ones((T,N))*h(R,c=c,l=l)\n",
    "b[0,0] = h(0,c=c,l=l) # Initial location constraint."
   ]
  },
  {
   "cell_type": "code",
   "execution_count": 60,
   "id": "ec3744a3-0ba9-4dfd-a35c-fb3052671c5c",
   "metadata": {},
   "outputs": [],
   "source": [
    "# Define and solve the problem\n",
    "B = cp.Variable((T,N))\n",
    "\n",
    "S = cp.Variable((T,T),symmetric=True)\n",
    "\n",
    "M = cp.vstack([cp.hstack([S,B]),\n",
    "               cp.hstack([B.T,A])])\n",
    "\n",
    "\n",
    "constraints = [M>>0]\n",
    "\n",
    "\n",
    "constraints += [cp.diag(S)==c]\n",
    "\n",
    "constraints += [S[i,i+1]>=d for i in range(0,T-2)]\n",
    "\n",
    "constraints += [B>=b]\n",
    "\n",
    "\n",
    "\n",
    "prob = cp.Problem(cp.Maximize(1/2*cp.log_det(np.eye(T)+ S/var)),constraints)\n",
    "\n",
    "upper_bound = prob.solve()"
   ]
  },
  {
   "cell_type": "code",
   "execution_count": 61,
   "id": "5bf895a9-07f5-4fb9-be2c-bf1ec6ac01ce",
   "metadata": {},
   "outputs": [
    {
     "data": {
      "text/plain": [
       "15.578051640072232"
      ]
     },
     "execution_count": 61,
     "metadata": {},
     "output_type": "execute_result"
    }
   ],
   "source": [
    "upper_bound"
   ]
  },
  {
   "cell_type": "code",
   "execution_count": 62,
   "id": "9cbc42cb-b762-47c8-97fa-901d6d95c9d0",
   "metadata": {},
   "outputs": [
    {
     "data": {
      "image/png": "[encoded data removed]",
      "text/plain": [
       "<Figure size 1200x800 with 1 Axes>"
      ]
     },
     "metadata": {
      "needs_background": "light"
     },
     "output_type": "display_data"
    }
   ],
   "source": [
    "\n",
    "plt.rc('font',size=11)\n",
    "plt.figure(dpi=200)\n",
    "for key,val in sols.items():\n",
    "    plt.plot(val[:,0],val[:,1],marker = '.',markersize = 15,label=\"{}: MI={:.2f}\".format(key,objective(val)))\n",
    "    \n",
    "    plt.gca().set_aspect('equal')\n",
    "\n",
    "circ = plt.Circle(search_region_center,search_region_radius,fill=False)\n",
    "plt.gca().add_patch(circ)\n",
    "# ll.labelLines(plt.gca().get_lines(),fontsize=12,zorder=3,yoffsets=1.5,align=False)\n",
    "plt.text(0.,2.,'MI Upper bound: {:.2f}'.format(upper_bound))\n",
    "plt.legend()\n",
    "plt.show()"
   ]
  }
 ],
 "metadata": {
  "kernelspec": {
   "display_name": "Python 3 (ipykernel)",
   "language": "python",
   "name": "python3"
  },
  "language_info": {
   "codemirror_mode": {
    "name": "ipython",
    "version": 3
   },
   "file_extension": ".py",
   "mimetype": "text/x-python",
   "name": "python",
   "nbconvert_exporter": "python",
   "pygments_lexer": "ipython3",
   "version": "3.9.5"
  }
 },
 "nbformat": 4,
 "nbformat_minor": 5
}
